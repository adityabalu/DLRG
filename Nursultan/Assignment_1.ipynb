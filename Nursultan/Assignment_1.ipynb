{
  "nbformat": 4,
  "nbformat_minor": 0,
  "metadata": {
    "colab": {
      "provenance": []
    },
    "kernelspec": {
      "name": "python3",
      "display_name": "Python 3"
    },
    "language_info": {
      "name": "python"
    }
  },
  "cells": [
    {
      "cell_type": "markdown",
      "source": [
        "# **Section 1**\n",
        "## 1. Write a Python function to get all strobogrammatic numbers that are of length\n",
        "n. i.e. the input to the method is n and output will be a list of strobogrammatic\n",
        "numbers."
      ],
      "metadata": {
        "id": "qphRukz4SlhG"
      }
    },
    {
      "cell_type": "code",
      "execution_count": 1,
      "metadata": {
        "colab": {
          "base_uri": "https://localhost:8080/"
        },
        "id": "D0ewoe5sSQMC",
        "outputId": "5e8d5cb6-5769-4d00-f8de-c92c22cf47f3"
      },
      "outputs": [
        {
          "output_type": "stream",
          "name": "stdout",
          "text": [
            "['11', '69', '88', '96']\n",
            "['101', '609', '808', '906', '111', '619', '818', '916', '181', '689', '888', '986']\n"
          ]
        }
      ],
      "source": [
        "def findStrobogrammatic(n):\n",
        "    def helper(m):\n",
        "        if m == 0:\n",
        "            return [\"\"]\n",
        "        if m == 1:\n",
        "            return [\"0\", \"1\", \"8\"]\n",
        "\n",
        "        prev = helper(m - 2)\n",
        "        result = []\n",
        "        for num in prev:\n",
        "            if m != n:\n",
        "                result.append(\"0\" + num + \"0\")\n",
        "            result.append(\"1\" + num + \"1\")\n",
        "            result.append(\"6\" + num + \"9\")\n",
        "            result.append(\"8\" + num + \"8\")\n",
        "            result.append(\"9\" + num + \"6\")\n",
        "\n",
        "        return result\n",
        "\n",
        "    return helper(n)\n",
        "\n",
        "# Test cases\n",
        "print(findStrobogrammatic(2))\n",
        "print(findStrobogrammatic(3))"
      ]
    },
    {
      "cell_type": "markdown",
      "source": [
        "# 2. Write a method to take two list of strings and return the concatenated string (with a space in between) with only lower case letters irrespective of what case the input was. Use for loops with zip iterator to do this.#"
      ],
      "metadata": {
        "id": "TMJXpm03TyKQ"
      }
    },
    {
      "cell_type": "code",
      "source": [
        "def concatenate_lower_strings(list1, list2):\n",
        "    concatenated = []\n",
        "    for str1, str2 in zip(list1, list2):\n",
        "        concatenated.append(str1.lower() + \" \" + str2.lower())\n",
        "    return concatenated\n",
        "\n",
        "# Test case\n",
        "list1 = [\"HellO\", \"BYe\"]\n",
        "list2 = [\"woRlD\", \"WOrld\"]\n",
        "result = concatenate_lower_strings(list1, list2)\n",
        "print(result)"
      ],
      "metadata": {
        "colab": {
          "base_uri": "https://localhost:8080/"
        },
        "id": "MKc7061qT8u4",
        "outputId": "85f237cd-f37a-4838-9c27-d0ff66913799"
      },
      "execution_count": 2,
      "outputs": [
        {
          "output_type": "stream",
          "name": "stdout",
          "text": [
            "['hello world', 'bye world']\n"
          ]
        }
      ]
    },
    {
      "cell_type": "markdown",
      "source": [
        "# 3. Write a method to take two list of strings of numbers, and checks if it can be converted to a number and then returns the product of both the numbers. Use list comprehension with zip iterator to do this."
      ],
      "metadata": {
        "id": "ONAYZWB3UOQT"
      }
    },
    {
      "cell_type": "code",
      "source": [
        "def calculate_product_of_numbers(list1, list2):\n",
        "    products = [int(num1) * int(num2) for num1, num2 in zip(list1, list2) if num1.isdigit() and str(num2).isdigit()]\n",
        "    return products\n",
        "\n",
        "# Test case\n",
        "list1 = ['12', '13', 'Hello', '4', '6', '10']\n",
        "list2 = ['2', '3', '4', 5, '[6, 12, 14]']\n",
        "result = calculate_product_of_numbers(list1, list2)\n",
        "print(result)\n"
      ],
      "metadata": {
        "colab": {
          "base_uri": "https://localhost:8080/"
        },
        "id": "XUIrVRluUPvg",
        "outputId": "bc533c99-9fb0-4f2a-8af0-14399d4806ef"
      },
      "execution_count": 3,
      "outputs": [
        {
          "output_type": "stream",
          "name": "stdout",
          "text": [
            "[24, 39, 20]\n"
          ]
        }
      ]
    },
    {
      "cell_type": "markdown",
      "source": [
        "# 4. Write a method to return a list of n chapter numbers enumerated properly in using a for loop"
      ],
      "metadata": {
        "id": "WzoTIdGPU-oC"
      }
    },
    {
      "cell_type": "code",
      "source": [
        "def enumerate_chapters(n):\n",
        "    chapters = [f\"Chapter {i}\" for i, _ in enumerate(range(1, n + 1), start=1)]\n",
        "    return chapters\n",
        "\n",
        "# Test case\n",
        "n = 3\n",
        "result = enumerate_chapters(n)\n",
        "print(result)"
      ],
      "metadata": {
        "colab": {
          "base_uri": "https://localhost:8080/"
        },
        "id": "st_Qk-pBVAhg",
        "outputId": "23634877-df5b-4ca6-95d6-238f451573e9"
      },
      "execution_count": 4,
      "outputs": [
        {
          "output_type": "stream",
          "name": "stdout",
          "text": [
            "['Chapter 1', 'Chapter 2', 'Chapter 3']\n"
          ]
        }
      ]
    },
    {
      "cell_type": "markdown",
      "source": [
        "# 5. A tetrahedral mesh can be represented as a graph with a set of nodes and a set of element connectivity (edge connectivity of the graph). Create a class which can store all the information of a mesh (i.e. the nodal locations, the edge connectivity)"
      ],
      "metadata": {
        "id": "eSbAOi1IViZI"
      }
    },
    {
      "cell_type": "code",
      "source": [
        "class TetrahedralMesh:\n",
        "    def __init__(self, nodes, edges):\n",
        "        self.nodes = nodes\n",
        "        self.edges = edges\n",
        "\n",
        "    def get_node(self, index):\n",
        "        if 0 <= index < len(self.nodes):\n",
        "            return self.nodes[index]\n",
        "        else:\n",
        "            raise IndexError(\"Node index out of range\")\n",
        "\n",
        "    def get_edge(self, index):\n",
        "        if 0 <= index < len(self.edges):\n",
        "            return self.edges[index]\n",
        "        else:\n",
        "            raise IndexError(\"Edge index out of range\")\n",
        "\n",
        "# Test\n",
        "nodes = [(0, 0, 0), (1, 0, 0), (0, 1, 0), (0, 0, 1)]\n",
        "edges = [(0, 1), (0, 2), (0, 3), (1, 2), (1, 3), (2, 3)]\n",
        "\n",
        "mesh = TetrahedralMesh(nodes, edges)\n",
        "\n",
        "print(\"Nodes:\")\n",
        "for i in range(len(mesh.nodes)):\n",
        "    print(f\"Node {i}: {mesh.get_node(i)}\")\n",
        "\n",
        "print(\"\\nEdges:\")\n",
        "for i in range(len(mesh.edges)):\n",
        "    print(f\"Edge {i}: {mesh.get_edge(i)}\")"
      ],
      "metadata": {
        "colab": {
          "base_uri": "https://localhost:8080/"
        },
        "id": "sO9RN_UiVjz7",
        "outputId": "a74b9d0c-17e5-40b4-ae91-6ef4789de39e"
      },
      "execution_count": 5,
      "outputs": [
        {
          "output_type": "stream",
          "name": "stdout",
          "text": [
            "Nodes:\n",
            "Node 0: (0, 0, 0)\n",
            "Node 1: (1, 0, 0)\n",
            "Node 2: (0, 1, 0)\n",
            "Node 3: (0, 0, 1)\n",
            "\n",
            "Edges:\n",
            "Edge 0: (0, 1)\n",
            "Edge 1: (0, 2)\n",
            "Edge 2: (0, 3)\n",
            "Edge 3: (1, 2)\n",
            "Edge 4: (1, 3)\n",
            "Edge 5: (2, 3)\n"
          ]
        }
      ]
    },
    {
      "cell_type": "markdown",
      "source": [
        "# 6. Write a method to read a mesh file represented in\n",
        "https://www.dropbox.com/s/pavpg172ot4qmbj/mesh.dat?dl=0.\n"
      ],
      "metadata": {
        "id": "QyTw5a4bWbKi"
      }
    },
    {
      "cell_type": "code",
      "source": [
        "def read_mesh_file(file_path):\n",
        "    nodes = []\n",
        "    elements = []\n",
        "\n",
        "    with open(file_path, 'r') as file:\n",
        "        lines = file.readlines()\n",
        "\n",
        "    node_section = False\n",
        "    element_section = False\n",
        "\n",
        "    for line in lines:\n",
        "        if line.startswith('/wb,node,start'):\n",
        "            node_section = True\n",
        "            continue\n",
        "        elif line.startswith('/wb,node,end'):\n",
        "            node_section = False\n",
        "            continue\n",
        "        elif line.startswith('/wb,elem,start'):\n",
        "            element_section = True\n",
        "            continue\n",
        "        elif line.startswith('/wb,elem,end'):\n",
        "            element_section = False\n",
        "            continue\n",
        "\n",
        "        if node_section:\n",
        "            if line.startswith('        '):\n",
        "                parts = line.split()\n",
        "                node_id = int(parts[0])\n",
        "                x = float(parts[1])\n",
        "                y = float(parts[2])\n",
        "                z = float(parts[3])\n",
        "                nodes.append((node_id, x, y, z))\n",
        "        elif element_section:\n",
        "            if line.startswith('       '):\n",
        "                parts = line.split()\n",
        "                element_data = [int(part) for part in parts]\n",
        "                elements.append(element_data[2:])  # Skipping the first 2 indices\n",
        "\n",
        "    return nodes, elements\n",
        "\n",
        "file_path = 'mesh.dat'\n",
        "nodes, elements = read_mesh_file(file_path)\n",
        "\n",
        "print('Nodes:')\n",
        "for node in nodes[:5]:\n",
        "    print(node)\n",
        "\n",
        "print('\\nElements:')\n",
        "for element in elements[:5]:\n",
        "    print(element)\n",
        "\n"
      ],
      "metadata": {
        "colab": {
          "base_uri": "https://localhost:8080/"
        },
        "id": "vLfyjQe5WdqI",
        "outputId": "a4040960-6930-41bd-b040-d2054f8916c5"
      },
      "execution_count": 6,
      "outputs": [
        {
          "output_type": "stream",
          "name": "stdout",
          "text": [
            "Nodes:\n",
            "(1, -0.152967704, -0.03594232712, 0.03179731594)\n",
            "(2, -0.1632966, -0.0251368705, 0.02223798727)\n",
            "(3, -0.1571797493, -0.03428005332, 0.03032674212)\n",
            "(4, -0.1604708279, -0.0317577561, 0.02809532618)\n",
            "(5, -0.1625855444, -0.0285827514, 0.02528647556)\n",
            "\n",
            "Elements:\n",
            "[1, 1, 0, 0, 0, 0, 10, 0, 1, 384, 7587, 2646, 3628, 10365, 25486, 10361, 10364]\n",
            "[1, 1, 0, 0, 0, 0, 10, 0, 2, 133, 815, 134, 2752, 8537, 8549, 8536, 8544]\n",
            "[1, 1, 0, 0, 0, 0, 10, 0, 3, 137, 2352, 4301, 2794, 8573, 23850, 8576, 8575]\n",
            "[1, 1, 0, 0, 0, 0, 10, 0, 4, 1446, 3174, 7587, 3627, 17968, 29026, 17971, 17969]\n",
            "[1, 1, 0, 0, 0, 0, 10, 0, 5, 822, 4301, 823, 835, 14041, 14048, 14034, 14035]\n"
          ]
        }
      ]
    },
    {
      "cell_type": "markdown",
      "source": [
        "# 7. Write a decorator @timeit to be able to compute the time taken for execution of any given method."
      ],
      "metadata": {
        "id": "ulOUMMxVYme9"
      }
    },
    {
      "cell_type": "code",
      "source": [
        "import time\n",
        "\n",
        "def timeit(func):\n",
        "    def wrapper(*args, **kwargs):\n",
        "        start_time = time.time()\n",
        "        result = func(*args, **kwargs)\n",
        "        end_time = time.time()\n",
        "        elapsed_time = end_time - start_time\n",
        "        print(f\"{func.__name__} took {elapsed_time:.6f} seconds to execute.\")\n",
        "        return result\n",
        "    return wrapper"
      ],
      "metadata": {
        "id": "bYVrCF5iYsnk"
      },
      "execution_count": 7,
      "outputs": []
    },
    {
      "cell_type": "markdown",
      "source": [
        "# 8. Using the decorator from the above question, time the following methods to understand the computational complexity:"
      ],
      "metadata": {
        "id": "cFCF2u3IZtZ8"
      }
    },
    {
      "cell_type": "markdown",
      "source": [
        "# a)"
      ],
      "metadata": {
        "id": "bj3BsC38Z5Z5"
      }
    },
    {
      "cell_type": "code",
      "source": [
        "import random\n",
        "import time\n",
        "\n",
        "def timeit(method):\n",
        "    def timed(*args, **kwargs):\n",
        "        start_time = time.time()\n",
        "        method(*args, **kwargs)\n",
        "        end_time = time.time()\n",
        "        print(f\"{method.__name__} took {end_time - start_time:.6f} seconds to execute.\")\n",
        "    return timed\n",
        "\n",
        "@timeit\n",
        "def product_using_zip(list1, list2):\n",
        "    result = [x * y for x, y in zip(list1, list2)]\n",
        "\n",
        "@timeit\n",
        "def product_using_loop(list1, list2):\n",
        "    result = []\n",
        "    for i in range(len(list1)):\n",
        "        result.append(list1[i] * list2[i])\n",
        "\n",
        "@timeit\n",
        "def product_using_individual_access(list1, list2):\n",
        "    result = []\n",
        "    for x in list1:\n",
        "        for y in list2:\n",
        "            result.append(x * y)\n",
        "\n",
        "# Generate two lists of 1000 random numbers each\n",
        "list1 = [random.randint(1, 1000) for _ in range(1000)]\n",
        "list2 = [random.randint(1, 1000) for _ in range(1000)]\n",
        "\n",
        "# Compute the product using different methods\n",
        "product_using_zip(list1, list2)\n",
        "product_using_loop(list1, list2)\n",
        "product_using_individual_access(list1, list2)\n"
      ],
      "metadata": {
        "id": "WHRLrEtwZtwO",
        "colab": {
          "base_uri": "https://localhost:8080/"
        },
        "outputId": "61904f69-b404-48c5-df15-c166d31112a8"
      },
      "execution_count": 8,
      "outputs": [
        {
          "output_type": "stream",
          "name": "stdout",
          "text": [
            "product_using_zip took 0.000158 seconds to execute.\n",
            "product_using_loop took 0.000261 seconds to execute.\n",
            "product_using_individual_access took 0.239418 seconds to execute.\n"
          ]
        }
      ]
    },
    {
      "cell_type": "markdown",
      "source": [
        "# b)"
      ],
      "metadata": {
        "id": "RaOlYpJed-iV"
      }
    },
    {
      "cell_type": "code",
      "source": [
        "import time\n",
        "\n",
        "def timeit(func):\n",
        "    def wrapper(*args, **kwargs):\n",
        "        start_time = time.time()\n",
        "        result = func(*args, **kwargs)\n",
        "        end_time = time.time()\n",
        "        print(f\"{func.__name__} took {end_time - start_time:.6f} seconds to execute.\")\n",
        "        return result\n",
        "    return wrapper\n",
        "\n",
        "# Time the execution of read_mesh_file using the @timeit decorator\n",
        "timed_read_mesh = timeit(read_mesh_file)\n",
        "nodes, elements = timed_read_mesh(file_path)\n"
      ],
      "metadata": {
        "id": "miPgOUqTeGDU",
        "colab": {
          "base_uri": "https://localhost:8080/"
        },
        "outputId": "80cf11a5-e77e-4bb3-f531-6a9c06653fd6"
      },
      "execution_count": 9,
      "outputs": [
        {
          "output_type": "stream",
          "name": "stdout",
          "text": [
            "read_mesh_file took 0.739949 seconds to execute.\n"
          ]
        }
      ]
    },
    {
      "cell_type": "markdown",
      "source": [
        "# c)"
      ],
      "metadata": {
        "id": "IVrHGkCmf53t"
      }
    },
    {
      "cell_type": "code",
      "source": [
        "import random\n",
        "\n",
        "@timeit\n",
        "def create_random_list(n):\n",
        "    return [random.uniform(0, 1) for _ in range(n)]\n",
        "\n",
        "random_list = create_random_list(10000)\n"
      ],
      "metadata": {
        "id": "4zBE1gpvf8kJ",
        "colab": {
          "base_uri": "https://localhost:8080/"
        },
        "outputId": "205ae95c-e658-42d6-8ad0-6baf6b7b571d"
      },
      "execution_count": 10,
      "outputs": [
        {
          "output_type": "stream",
          "name": "stdout",
          "text": [
            "create_random_list took 0.005510 seconds to execute.\n"
          ]
        }
      ]
    },
    {
      "cell_type": "markdown",
      "source": [
        "# d)"
      ],
      "metadata": {
        "id": "tRcUSvROf-vf"
      }
    },
    {
      "cell_type": "code",
      "source": [
        "@timeit\n",
        "def create_random_tuple(n):\n",
        "    return tuple(random.uniform(0, 1) for _ in range(n))\n",
        "\n",
        "random_tuple = create_random_tuple(10000)\n"
      ],
      "metadata": {
        "id": "MFOnK4IqgAmD",
        "colab": {
          "base_uri": "https://localhost:8080/"
        },
        "outputId": "c94649eb-10e6-4f6e-c9d1-2be602a2da5d"
      },
      "execution_count": 11,
      "outputs": [
        {
          "output_type": "stream",
          "name": "stdout",
          "text": [
            "create_random_tuple took 0.012585 seconds to execute.\n"
          ]
        }
      ]
    },
    {
      "cell_type": "markdown",
      "source": [
        "# e)"
      ],
      "metadata": {
        "id": "PgLNMVxggHLJ"
      }
    },
    {
      "cell_type": "code",
      "source": [
        "@timeit\n",
        "def find_median(data):\n",
        "    return sorted(data)[len(data) // 2]\n",
        "\n",
        "median_list = find_median(random_list)\n",
        "median_tuple = find_median(random_tuple)\n"
      ],
      "metadata": {
        "id": "h91J-LSXgIxG",
        "colab": {
          "base_uri": "https://localhost:8080/"
        },
        "outputId": "98b6eb08-7a9f-4cbf-ccda-f0a477ba2bf0"
      },
      "execution_count": 12,
      "outputs": [
        {
          "output_type": "stream",
          "name": "stdout",
          "text": [
            "find_median took 0.002341 seconds to execute.\n",
            "find_median took 0.002282 seconds to execute.\n"
          ]
        }
      ]
    },
    {
      "cell_type": "markdown",
      "source": [
        "# f)\n",
        "Lists are dynamic in nature, meaning we can append elements to them using the append method. Tuples, on the other hand, are immutable, so we would need to create a new tuple by concatenating the existing tuple with another tuple."
      ],
      "metadata": {
        "id": "YTOD_d9LgL3Z"
      }
    },
    {
      "cell_type": "markdown",
      "source": [
        "# g)"
      ],
      "metadata": {
        "id": "rQR6qwcLgbg-"
      }
    },
    {
      "cell_type": "code",
      "source": [
        "import random\n",
        "\n",
        "def timeit(func):\n",
        "    def wrapper(*args, **kwargs):\n",
        "        import time\n",
        "        start = time.time()\n",
        "        result = func(*args, **kwargs)\n",
        "        end = time.time()\n",
        "        print(f\"{func.__name__} took {end - start:.6f} seconds to execute.\")\n",
        "        return result\n",
        "    return wrapper\n",
        "\n",
        "@timeit\n",
        "def sample_distributions(sample_size):\n",
        "    distribution_dict = {\n",
        "        'gauss': [],\n",
        "        'lognormvariate': [],\n",
        "        'normalvariate': []\n",
        "    }\n",
        "\n",
        "    for _ in range(sample_size):\n",
        "        distribution_dict['gauss'].append(random.gauss(0, 1))\n",
        "        distribution_dict['lognormvariate'].append(random.lognormvariate(0, 1))\n",
        "        distribution_dict['normalvariate'].append(random.normalvariate(0, 1))\n",
        "\n",
        "    return distribution_dict\n",
        "\n",
        "sample_size = 1000\n",
        "distribution_samples = sample_distributions(sample_size)\n"
      ],
      "metadata": {
        "id": "VyCLI_v0gd3I",
        "colab": {
          "base_uri": "https://localhost:8080/"
        },
        "outputId": "a7e0f072-c7ca-4108-83b3-b0264207c500"
      },
      "execution_count": 13,
      "outputs": [
        {
          "output_type": "stream",
          "name": "stdout",
          "text": [
            "sample_distributions took 0.013278 seconds to execute.\n"
          ]
        }
      ]
    },
    {
      "cell_type": "markdown",
      "source": [
        "# 9. Write a Python program for a robot to drive in a square motion."
      ],
      "metadata": {
        "id": "_-i4Ykue_eCU"
      }
    },
    {
      "cell_type": "code",
      "source": [
        "import time\n",
        "\n",
        "class Robot:\n",
        "    def __init__(self):\n",
        "        self.current_position = [0, 0]\n",
        "        self.current_direction = [1, 0]\n",
        "        self.current_time = 0.0\n",
        "        self.speed = 0.5\n",
        "\n",
        "    def move(self, distance):\n",
        "        self.current_position[0] += self.current_direction[0] * distance\n",
        "        self.current_position[1] += self.current_direction[1] * distance\n",
        "        time.sleep(distance / self.speed)\n",
        "        self.current_time += distance / self.speed\n",
        "\n",
        "    def turn_left(self):\n",
        "        self.current_direction = [-self.current_direction[1], self.current_direction[0]]\n",
        "        time.sleep(0.1)  # Simulate turning time\n",
        "\n",
        "    def drive_square(self):\n",
        "        for _ in range(4):\n",
        "            self.move(1.0)\n",
        "            self.turn_left()\n",
        "\n",
        "    def get_position(self):\n",
        "        return self.current_position\n",
        "\n",
        "    def get_direction(self):\n",
        "        return self.current_direction\n",
        "\n",
        "    def get_time(self):\n",
        "        return self.current_time\n",
        "\n",
        "if __name__ == \"__main__\":\n",
        "    robot = Robot()\n",
        "    print(\"Initial position:\", robot.get_position())\n",
        "    print(\"Initial direction:\", robot.get_direction())\n",
        "    print(\"Initial time:\", robot.get_time())\n",
        "\n",
        "    robot.drive_square()\n",
        "\n",
        "    print(\"Final position:\", robot.get_position())\n",
        "    print(\"Final direction:\", robot.get_direction())\n",
        "    print(\"Final time:\", robot.get_time())\n"
      ],
      "metadata": {
        "id": "AVF27bSW_l3y",
        "colab": {
          "base_uri": "https://localhost:8080/"
        },
        "outputId": "604a9052-391b-4c9f-fa9e-83189b3edc3d"
      },
      "execution_count": 14,
      "outputs": [
        {
          "output_type": "stream",
          "name": "stdout",
          "text": [
            "Initial position: [0, 0]\n",
            "Initial direction: [1, 0]\n",
            "Initial time: 0.0\n",
            "Final position: [0.0, 0.0]\n",
            "Final direction: [1, 0]\n",
            "Final time: 8.0\n"
          ]
        }
      ]
    },
    {
      "cell_type": "markdown",
      "source": [
        "# 10.  Update the ____repr_____ method of the class to return the current position, direction and time as a string"
      ],
      "metadata": {
        "id": "W_sXjl9oAJvH"
      }
    },
    {
      "cell_type": "code",
      "source": [
        "import time\n",
        "\n",
        "class Robot:\n",
        "    def __init__(self):\n",
        "        self.current_position = [0, 0]\n",
        "        self.current_direction = [1, 0]\n",
        "        self.current_time = 0.0\n",
        "        self.speed = 0.5\n",
        "\n",
        "    def move(self, distance):\n",
        "        self.current_position[0] += self.current_direction[0] * distance\n",
        "        self.current_position[1] += self.current_direction[1] * distance\n",
        "        time.sleep(distance / self.speed)\n",
        "        self.current_time += distance / self.speed\n",
        "\n",
        "    def turn_left(self):\n",
        "        self.current_direction = [-self.current_direction[1], self.current_direction[0]]\n",
        "        time.sleep(0.1)  # Simulate turning time\n",
        "\n",
        "    def drive_square(self):\n",
        "        for _ in range(4):\n",
        "            self.move(1.0)\n",
        "            self.turn_left()\n",
        "\n",
        "    def get_position(self):\n",
        "        return self.current_position\n",
        "\n",
        "    def get_direction(self):\n",
        "        return self.current_direction\n",
        "\n",
        "    def get_time(self):\n",
        "        return self.current_time\n",
        "\n",
        "    def __repr__(self):\n",
        "        return f\"Position: {self.current_position}, Direction: {self.current_direction}, Time: {self.current_time}\"\n",
        "\n",
        "if __name__ == \"__main__\":\n",
        "    robot = Robot()\n",
        "    print(\"Initial state:\", robot)\n",
        "\n",
        "    robot.drive_square()\n",
        "\n",
        "    print(\"Final state:\", robot)\n"
      ],
      "metadata": {
        "id": "Vwz5i_2MAE-V",
        "colab": {
          "base_uri": "https://localhost:8080/"
        },
        "outputId": "ac42089c-a452-400b-a3b2-288b9999d249"
      },
      "execution_count": 15,
      "outputs": [
        {
          "output_type": "stream",
          "name": "stdout",
          "text": [
            "Initial state: Position: [0, 0], Direction: [1, 0], Time: 0.0\n",
            "Final state: Position: [0.0, 0.0], Direction: [1, 0], Time: 8.0\n"
          ]
        }
      ]
    },
    {
      "cell_type": "markdown",
      "source": [
        "# 11. Create four methods in the above class that update the attributes of the class:"
      ],
      "metadata": {
        "id": "87hgqnnyBEKk"
      }
    },
    {
      "cell_type": "code",
      "source": [
        "import time\n",
        "\n",
        "class Robot:\n",
        "    def __init__(self):\n",
        "        self.current_position = [0, 0]\n",
        "        self.current_direction = [1, 0]\n",
        "        self.current_time = 0.0\n",
        "        self.speed = 0.5\n",
        "\n",
        "    def wait(self, wait_time):\n",
        "        time.sleep(wait_time)\n",
        "        self.current_time += wait_time\n",
        "\n",
        "    def move_forward(self, move_time):\n",
        "        distance = self.speed * move_time\n",
        "        self.current_position[0] += self.current_direction[0] * distance\n",
        "        self.current_position[1] += self.current_direction[1] * distance\n",
        "        time.sleep(move_time)\n",
        "        self.current_time += move_time\n",
        "\n",
        "    def rotate_right(self):\n",
        "        self.current_direction = [self.current_direction[1], -self.current_direction[0]]\n",
        "        time.sleep(0.1)  # Simulate turning time\n",
        "\n",
        "    def rotate_left(self):\n",
        "        self.current_direction = [-self.current_direction[1], self.current_direction[0]]\n",
        "        time.sleep(0.1)  # Simulate turning time\n",
        "\n",
        "    def drive_square(self):\n",
        "        for _ in range(4):\n",
        "            self.move_forward(1.0)\n",
        "            self.rotate_left()\n",
        "\n",
        "    def get_position(self):\n",
        "        return self.current_position\n",
        "\n",
        "    def get_direction(self):\n",
        "        return self.current_direction\n",
        "\n",
        "    def get_time(self):\n",
        "        return self.current_time\n",
        "\n",
        "    def __repr__(self):\n",
        "        return f\"Position: {self.current_position}, Direction: {self.current_direction}, Time: {self.current_time}\"\n",
        "\n",
        "if __name__ == \"__main__\":\n",
        "    robot = Robot()\n",
        "    print(\"Initial state:\", robot)\n",
        "\n",
        "    robot.move_forward(2.0)\n",
        "    robot.rotate_right()\n",
        "    robot.move_forward(1.5)\n",
        "    robot.rotate_left()\n",
        "    robot.wait(0.5)\n",
        "    robot.drive_square()\n",
        "\n",
        "    print(\"Final state:\", robot)\n"
      ],
      "metadata": {
        "id": "kABDoNMbBEiK",
        "colab": {
          "base_uri": "https://localhost:8080/"
        },
        "outputId": "e74d2a7e-6c7a-49ff-f13a-449323191d34"
      },
      "execution_count": 16,
      "outputs": [
        {
          "output_type": "stream",
          "name": "stdout",
          "text": [
            "Initial state: Position: [0, 0], Direction: [1, 0], Time: 0.0\n",
            "Final state: Position: [1.0, -0.75], Direction: [1, 0], Time: 8.0\n"
          ]
        }
      ]
    },
    {
      "cell_type": "markdown",
      "source": [
        "# 12. Create a function “move_square(side_length)” which instantiates the robot class and traverses a square starting at origin as shown in the figure. This function will take input the side length of the square and execute the instructions. Additionally, print the robot state after every robot action. In the main code, call this function with the side_length argument as 10.\n"
      ],
      "metadata": {
        "id": "XWilJxZfCO8E"
      }
    },
    {
      "cell_type": "code",
      "source": [
        "import time\n",
        "\n",
        "def move_square(side_length):\n",
        "    robot = Robot()\n",
        "\n",
        "    print(\"Initial state:\", robot)\n",
        "\n",
        "    for _ in range(4):\n",
        "        robot.move_forward(side_length)\n",
        "        robot.rotate_left()\n",
        "        print(\"Robot state after moving forward and rotating:\", robot)\n",
        "\n",
        "        robot.move_forward(side_length)\n",
        "        robot.rotate_left()\n",
        "        print(\"Robot state after moving forward and rotating:\", robot)\n",
        "\n",
        "if __name__ == \"__main__\":\n",
        "    side_length = 10\n",
        "    move_square(side_length)\n",
        "\n"
      ],
      "metadata": {
        "id": "UqTVC4OABoQ0",
        "colab": {
          "base_uri": "https://localhost:8080/"
        },
        "outputId": "1480dd6d-99a2-4cad-b164-dcad440bb4ab"
      },
      "execution_count": 17,
      "outputs": [
        {
          "output_type": "stream",
          "name": "stdout",
          "text": [
            "Initial state: Position: [0, 0], Direction: [1, 0], Time: 0.0\n",
            "Robot state after moving forward and rotating: Position: [5.0, 0.0], Direction: [0, 1], Time: 10.0\n",
            "Robot state after moving forward and rotating: Position: [5.0, 5.0], Direction: [-1, 0], Time: 20.0\n",
            "Robot state after moving forward and rotating: Position: [0.0, 5.0], Direction: [0, -1], Time: 30.0\n",
            "Robot state after moving forward and rotating: Position: [0.0, 0.0], Direction: [1, 0], Time: 40.0\n",
            "Robot state after moving forward and rotating: Position: [5.0, 0.0], Direction: [0, 1], Time: 50.0\n",
            "Robot state after moving forward and rotating: Position: [5.0, 5.0], Direction: [-1, 0], Time: 60.0\n",
            "Robot state after moving forward and rotating: Position: [0.0, 5.0], Direction: [0, -1], Time: 70.0\n",
            "Robot state after moving forward and rotating: Position: [0.0, 0.0], Direction: [1, 0], Time: 80.0\n"
          ]
        }
      ]
    }
  ]
}