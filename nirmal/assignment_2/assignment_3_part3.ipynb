{
 "cells": [
  {
   "cell_type": "code",
   "execution_count": 6,
   "metadata": {},
   "outputs": [
    {
     "name": "stdout",
     "output_type": "stream",
     "text": [
      "{1, 2, 3}\n",
      "2 is in the set\n",
      "{1, 2, 3, 4}\n",
      "{2, 3}\n",
      "{1}\n",
      "1\n",
      "2\n",
      "3\n",
      "hello\n",
      "42\n",
      "nirmal@iastate.com\n"
     ]
    }
   ],
   "source": [
    "'''1.Give 4 examples where only one of these data structures are useful and no other \n",
    "data structure would be efficient. (i) Lists (ii) Sets (ii) Tuples (iv) Dicts\n",
    "'''\n",
    "#1.1\n",
    "#Lists\n",
    "#Lists are mutable, which means we can change the items in a list after it has been created.\n",
    "#Lists allow duplicate members, which means we can have two items with the same value.\n",
    "#Lists are best when elements are of different datatypes. \n",
    "#Lists are defined using square brackets: [ ]\n",
    "\n",
    "#1.2\n",
    "#Sets\n",
    "#set are useful when we want to have unique items in a collection. good for removing duplicates.\n",
    "my_list = [1, 2, 2, 3, 3, 3]\n",
    "my_set = set(my_list)\n",
    "print(my_set)  # prints {1, 2, 3}\n",
    "\n",
    "#set are useful for checking membership\n",
    "my_set = {1, 2, 3}\n",
    "if 2 in my_set:\n",
    "    print(\"2 is in the set\")\n",
    "\n",
    "#set operations like union, intersection, difference, etc.\n",
    "set1 = {1, 2, 3}\n",
    "set2 = {2, 3, 4}\n",
    "union = set1.union(set2)\n",
    "intersection = set1.intersection(set2)\n",
    "difference = set1.difference(set2)\n",
    "print(union)        # prints {1, 2, 3, 4}\n",
    "print(intersection) # prints {2, 3}\n",
    "print(difference)   # prints {1}\n",
    "\n",
    "\n",
    "#1.3\n",
    "#Tuples\n",
    "#Tuples are useful when we want to store a collection of items, and the collection will not change. tuples are immutable.\n",
    "#Tuples are useful when passing arguments to a function.\n",
    "def my_function(*args):\n",
    "    for arg in args:\n",
    "        print(arg)\n",
    "\n",
    "my_function(1, 2, 3)      # prints 1, 2, 3\n",
    "my_function(\"hello\", 42) # prints \"hello\", 42\n",
    "\n",
    "\n",
    "#1.4\n",
    "#Dicts\n",
    "#Dicts are useful when we want to store a collection of items, and we want to be able to access them by a key.\n",
    "#Dicts do not allow members with duplicate keys.\n",
    "user = {\"name\": \"Nirmal\", \"email\": \"nirmal@iastate.com\", \"phone\": \"555-1234\"}\n",
    "print(user[\"email\"])"
   ]
  },
  {
   "cell_type": "code",
   "execution_count": 7,
   "metadata": {},
   "outputs": [],
   "source": [
    "'''\n",
    "3. write a program which can read from both command line arguments and a yaml \n",
    "file. i.e. you will have the default configuration for the parameters provided in a \n",
    "yaml file and you can override them using command line arguments and every \n",
    "time you run the code, it should create a run folder (automatically incrementing \n",
    "the version number of the run) and store the parameters used for the run in that \n",
    "folder.\n",
    "\n",
    "'''\n",
    "\n",
    "import yaml\n",
    "\n",
    "data = {'ID': 1234, 'major': 'ME', 'name': 'Nirmal', 'occupation': 'Student'}\n",
    "\n",
    "with open('my_config.yaml', 'w') as f:\n",
    "    yaml.dump(data, f)\n",
    "\n",
    "# the actual script is written in part3_pb3_yaml.py\n",
    "\n",
    "# run this file from command line as:\n",
    "# \n",
    "# python part3_pb3_yaml.py --name AB --ID 2345 --config my_config.yaml\n"
   ]
  },
  {
   "cell_type": "code",
   "execution_count": 2,
   "metadata": {},
   "outputs": [
    {
     "name": "stdout",
     "output_type": "stream",
     "text": [
      "2\n",
      "3\n",
      "5\n",
      "obj has been deallocated\n"
     ]
    }
   ],
   "source": [
    "'''\n",
    "Q4. Write a program that can manually increase the reference count of variables and\n",
    "then manually call the garbage collection to happen. For this, you will have to\n",
    "create a Class and instantiate it.\n",
    "'''\n",
    "import gc\n",
    "import sys\n",
    "\n",
    "class MyClass:\n",
    "    def __init__(self, value):\n",
    "        self.value = value\n",
    "\n",
    "\n",
    "obj = MyClass(42)\n",
    "print(sys.getrefcount(obj))  # expected output: 2\n",
    "\n",
    "# manually increase the reference count of obj by assigning it to a variable\n",
    "obj2 = obj\n",
    "print(sys.getrefcount(obj))  # expected output: 3\n",
    "\n",
    "# manually increase the reference count of obj by passing it as an argument to a function\n",
    "def my_func(obj):\n",
    "    print(sys.getrefcount(obj))  # expected output: 5\n",
    "\n",
    "my_func(obj)\n",
    "\n",
    "# manually call the garbage collector to deallocate obj\n",
    "del obj\n",
    "gc.collect()\n",
    "\n",
    "# try to access obj to check if it has been deallocated\n",
    "try:\n",
    "    print(obj)\n",
    "except NameError:\n",
    "    print(\"obj has been deallocated\")  # expected output: \"obj has been deallocated\""
   ]
  },
  {
   "cell_type": "code",
   "execution_count": null,
   "metadata": {},
   "outputs": [],
   "source": [
    "'''\n",
    "Q5. Write a program to take a command line input of a given image name (can be any \n",
    "format, bmp, jpg, jpeg, png, tiff etc.) and convert that image into a JPG format \n",
    "image with resolution of 224x224 (irrespective of the original image size).\n",
    "'''\n",
    "\n",
    "# the actual script is written in part3_pb5_image_converter.py\n",
    "# run this file from command line as:\n",
    "# python part3_pb5_image_converter.py image_filename\n"
   ]
  },
  {
   "cell_type": "code",
   "execution_count": 14,
   "metadata": {},
   "outputs": [
    {
     "name": "stdout",
     "output_type": "stream",
     "text": [
      "File size: 80448 bytes\n",
      "File size: 22820 bytes\n"
     ]
    }
   ],
   "source": [
    "'''\n",
    "Q6. Load 100 images from the MNIST dataset and store the files together into one file. \n",
    "Using any of the known extension like h5, npy, npz, pkl, mat. Report the disk space \n",
    "taken for each method. Can you reduce the size further?\n",
    "'''\n",
    "import h5py\n",
    "import numpy as np\n",
    "from keras.datasets import mnist\n",
    "\n",
    "(x_train, y_train), _ = mnist.load_data()\n",
    "x_train = x_train[:100]\n",
    "\n",
    "with h5py.File('mnist_images.h5', 'w') as f:\n",
    "    # Create a dataset to store the images\n",
    "    images_ds = f.create_dataset('images', shape=(100, 28, 28), dtype=np.uint8)\n",
    "\n",
    "    # Write the images to the dataset\n",
    "    images_ds[:] = x_train\n",
    "\n",
    "import os\n",
    "print(f\"File size: {os.path.getsize('mnist_images.h5')} bytes\")\n",
    "\n",
    "with h5py.File('mnist_images_compressed.h5', 'w') as f:\n",
    "    # Create a compressed dataset to store the images\n",
    "    images_ds = f.create_dataset('images', shape=(100, 28, 28), dtype=np.uint8, compression='gzip', compression_opts=4)\n",
    "\n",
    "    # Write the images to the dataset\n",
    "    images_ds[:] = x_train\n",
    "    \n",
    "print(f\"File size after compression: {os.path.getsize('mnist_images_compressed.h5')} bytes\")\n"
   ]
  },
  {
   "cell_type": "code",
   "execution_count": null,
   "metadata": {},
   "outputs": [],
   "source": []
  }
 ],
 "metadata": {
  "kernelspec": {
   "display_name": "Python 3.9.12 ('base')",
   "language": "python",
   "name": "python3"
  },
  "language_info": {
   "codemirror_mode": {
    "name": "ipython",
    "version": 3
   },
   "file_extension": ".py",
   "mimetype": "text/x-python",
   "name": "python",
   "nbconvert_exporter": "python",
   "pygments_lexer": "ipython3",
   "version": "3.9.12"
  },
  "orig_nbformat": 4,
  "vscode": {
   "interpreter": {
    "hash": "5f593ed61338bf6d4c4b082eab5a937812836e0e5863e9fbe8ac26ce69c9b625"
   }
  }
 },
 "nbformat": 4,
 "nbformat_minor": 2
}
