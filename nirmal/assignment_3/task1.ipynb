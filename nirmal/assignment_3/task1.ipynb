{
 "cells": [
  {
   "cell_type": "code",
   "execution_count": 2,
   "metadata": {},
   "outputs": [],
   "source": [
    "import torch\n",
    "import pytorch_lightning as pl\n",
    "import torchvision\n",
    "import matplotlib.pyplot as plt\n",
    "\n",
    "\n",
    "import sys\n",
    "sys.path.append('task_1/')\n",
    "import models\n",
    "import trainer"
   ]
  },
  {
   "cell_type": "code",
   "execution_count": 38,
   "metadata": {},
   "outputs": [
    {
     "data": {
      "text/plain": [
       "<module 'trainer' from 'c:\\\\Users\\\\Nirmal\\\\Documents\\\\Nirmal_Git\\\\bitbucket\\\\aditya_dlrg_fork\\\\DLRG\\\\nirmal\\\\assignment_3\\\\task_1\\\\trainer.py'>"
      ]
     },
     "execution_count": 38,
     "metadata": {},
     "output_type": "execute_result"
    }
   ],
   "source": [
    "import importlib\n",
    "importlib.reload(models)\n",
    "importlib.reload(trainer)"
   ]
  },
  {
   "cell_type": "code",
   "execution_count": 39,
   "metadata": {},
   "outputs": [
    {
     "name": "stderr",
     "output_type": "stream",
     "text": [
      "GPU available: False, used: False\n",
      "TPU available: False, using: 0 TPU cores\n",
      "IPU available: False, using: 0 IPUs\n",
      "HPU available: False, using: 0 HPUs\n",
      "\n",
      "  | Name       | Type      | Params\n",
      "-----------------------------------------\n",
      "0 | big_cnn    | BigCNN    | 190 K \n",
      "1 | little_cnn | LittleCNN | 1.6 M \n",
      "2 | mlp        | MLP       | 535 K \n",
      "-----------------------------------------\n",
      "2.4 M     Trainable params\n",
      "0         Non-trainable params\n",
      "2.4 M     Total params\n",
      "9.424     Total estimated model params size (MB)\n"
     ]
    },
    {
     "name": "stdout",
     "output_type": "stream",
     "text": [
      "Epoch 0:   8%|▊         | 169/2188 [00:31<06:20,  5.31it/s, loss=0.665, v_num=15]"
     ]
    }
   ],
   "source": [
    "train_dataset = torchvision.datasets.FashionMNIST(root='./data', train=True, download=True, transform=torchvision.transforms.ToTensor())\n",
    "test_dataset = torchvision.datasets.FashionMNIST(root='./data', train=False, download=True, transform=torchvision.transforms.ToTensor())\n",
    "\n",
    "train_loader = torch.utils.data.DataLoader(train_dataset, batch_size=32, shuffle=True)\n",
    "test_loader = torch.utils.data.DataLoader(test_dataset, batch_size=32, shuffle=False)\n",
    "\n",
    "# initialize models\n",
    "my_models = trainer.MyModel()\n",
    "\n",
    "# initialize trainer\n",
    "my_trainer = pl.Trainer(max_epochs=1, gpus=0)\n",
    "\n",
    "# train models\n",
    "my_trainer.fit(my_models, train_loader, test_loader)\n",
    "\n",
    "#my_models.forward(torch.randn(32, 1, 28, 28))"
   ]
  },
  {
   "cell_type": "code",
   "execution_count": 18,
   "metadata": {},
   "outputs": [],
   "source": [
    "'''\n",
    "In ‘main.py’ initialize the dataset, dataloaders, logger, models, and trainer class. Use\n",
    "argparse to execute the file. In-line commands must include the logging directory’s path,\n",
    "batch size, number of workers, fast dev run, and number of epochs. Save model weights\n",
    "in the logging directory as well.\n",
    "'''\n",
    "\n",
    "import argparse\n",
    "import pytorch_lightning as pl\n",
    "from pytorch_lightning.loggers import TensorBoardLogger\n",
    "from pytorch_lightning.callbacks import ModelCheckpoint\n",
    "from pytorch_lightning.callbacks.early_stopping import EarlyStopping\n",
    "from torch.utils.data import DataLoader\n",
    "import torchvision\n",
    "import torch\n",
    "import sys\n",
    "sys.path.append('task_1/')\n",
    "import models\n",
    "from trainer import MyModel\n",
    "\n",
    "def main(args):\n",
    "    # initialize dataset\n",
    "    train_dataset = torchvision.datasets.FashionMNIST(root='./data', train=True, download=True, transform=torchvision.transforms.ToTensor())\n",
    "    test_dataset = torchvision.datasets.FashionMNIST(root='./data', train=False, download=True, transform=torchvision.transforms.ToTensor())\n",
    "\n",
    "    # initialize dataloaders\n",
    "    train_dataloader = DataLoader(train_dataset, batch_size=args.batch_size, num_workers=args.num_workers)\n",
    "    test_dataloader = DataLoader(test_dataset, batch_size=args.batch_size, num_workers=args.num_workers)\n",
    "\n",
    "    # initialize logger\n",
    "    logger = TensorBoardLogger('logs', name='task_1')\n",
    "\n",
    "    # initialize models\n",
    "    big_cnn = models.BigCNN()\n",
    "    little_cnn = models.LittleCNN()\n",
    "    mlp = models.MLP()\n",
    "\n",
    "    # initialize trainer\n",
    "    trainer = pl.Trainer(\n",
    "        logger=logger,\n",
    "        max_epochs=args.max_epochs,\n",
    "        fast_dev_run=args.fast_dev_run,\n",
    "        gpus=1 if torch.cuda.is_available() else 0,\n",
    "        callbacks=[\n",
    "            EarlyStopping(monitor='val_loss', patience=3),\n",
    "            ModelCheckpoint(monitor='val_loss')\n",
    "        ]\n",
    "    )\n",
    "\n",
    "    # train model\n",
    "    model = MyModel()\n",
    "    trainer.fit(model, train_dataloader, test_dataloader)\n",
    "\n",
    "    # save model weights\n",
    "    trainer.save_checkpoint('task_1.ckpt')\n"
   ]
  },
  {
   "cell_type": "code",
   "execution_count": 19,
   "metadata": {},
   "outputs": [
    {
     "ename": "TypeError",
     "evalue": "main() missing 1 required positional argument: 'args'",
     "output_type": "error",
     "traceback": [
      "\u001b[1;31m---------------------------------------------------------------------------\u001b[0m",
      "\u001b[1;31mTypeError\u001b[0m                                 Traceback (most recent call last)",
      "\u001b[1;32m~\\AppData\\Local\\Temp/ipykernel_32640/451043146.py\u001b[0m in \u001b[0;36m<module>\u001b[1;34m\u001b[0m\n\u001b[1;32m----> 1\u001b[1;33m \u001b[0mmain\u001b[0m\u001b[1;33m(\u001b[0m\u001b[1;33m)\u001b[0m\u001b[1;33m\u001b[0m\u001b[1;33m\u001b[0m\u001b[0m\n\u001b[0m",
      "\u001b[1;31mTypeError\u001b[0m: main() missing 1 required positional argument: 'args'"
     ]
    }
   ],
   "source": [
    "main()"
   ]
  }
 ],
 "metadata": {
  "kernelspec": {
   "display_name": "Python 3",
   "language": "python",
   "name": "python3"
  },
  "language_info": {
   "codemirror_mode": {
    "name": "ipython",
    "version": 3
   },
   "file_extension": ".py",
   "mimetype": "text/x-python",
   "name": "python",
   "nbconvert_exporter": "python",
   "pygments_lexer": "ipython3",
   "version": "3.9.13"
  },
  "orig_nbformat": 4
 },
 "nbformat": 4,
 "nbformat_minor": 2
}
