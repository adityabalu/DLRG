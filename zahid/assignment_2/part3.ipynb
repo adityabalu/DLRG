{
 "cells": [
  {
   "attachments": {},
   "cell_type": "markdown",
   "metadata": {},
   "source": [
    "```\n",
    "1. 4 examples where only one of these data structures are useful and no other data structure would be efficient. (i) Lists (ii) Sets (ii) Tuples (iv) Dicts \n",
    "```"
   ]
  },
  {
   "cell_type": "code",
   "execution_count": null,
   "metadata": {},
   "outputs": [],
   "source": []
  },
  {
   "attachments": {},
   "cell_type": "markdown",
   "metadata": {},
   "source": [
    "``` 2. Write 5 python codes to demonstrate each of the 5 principles in SOLID principles.```"
   ]
  },
  {
   "attachments": {},
   "cell_type": "markdown",
   "metadata": {},
   "source": [
    "### Single-responsibility principle(SRP)\n",
    "Every module/class should have responsibility over a single part of the functionality. For example, below if want to add a new feature to update_user which updates the user info to the database. We can simply add the method to UserDB class."
   ]
  },
  {
   "cell_type": "code",
   "execution_count": 3,
   "metadata": {},
   "outputs": [
    {
     "name": "stdout",
     "output_type": "stream",
     "text": [
      "registered user in db\n",
      "email sent\n",
      "updated user in db\n",
      "email sent\n"
     ]
    }
   ],
   "source": [
    "class UserDB:\n",
    "    def create_user(self, username, password, email):\n",
    "        print(\"registered user in db\")\n",
    "    def update_user(self, username, password, email): # added this new method to update user\n",
    "        print(\"updated user in db\")\n",
    "\n",
    "class Email:\n",
    "    def send_email(self, subject, to_email):\n",
    "        print(\"email sent\")\n",
    "\n",
    "class ErrorLog:\n",
    "    def log_error(self, error):\n",
    "        print(\"log:\", error)\n",
    "\n",
    "class User:\n",
    "    def register_user(self, username, password, email):\n",
    "        try:\n",
    "            user_db = UserDB()\n",
    "            user_db.create_user(username, password, email)\n",
    "            email_server = Email()\n",
    "            email_server.send_email(\"user registered\", email)\n",
    "            user_db.update_user(username, password, email)\n",
    "            email_server.send_email(\"user updated\", email)\n",
    "        except Exception:\n",
    "            logger = ErrorLog()\n",
    "            logger.log_error(\"error in user register\")\n",
    "\n",
    "if __name__ == '__main__':\n",
    "    user = User()\n",
    "    user.register_user(\"anji\", \"secret\", \"anji@example.com\")\n"
   ]
  },
  {
   "attachments": {},
   "cell_type": "markdown",
   "metadata": {},
   "source": [
    "### Open–closed principle(OCP)"
   ]
  },
  {
   "cell_type": "code",
   "execution_count": 9,
   "metadata": {},
   "outputs": [
    {
     "name": "stdout",
     "output_type": "stream",
     "text": [
      "278.5\n"
     ]
    }
   ],
   "source": [
    "class Shape:\n",
    "    def area(self):\n",
    "        pass\n",
    "    \n",
    "class Rectangle(Shape):\n",
    "    def __init__(self, width, height):\n",
    "        self.width = width\n",
    "        self.height = height\n",
    "        \n",
    "    def area(self):\n",
    "        return self.width * self.height\n",
    "    \n",
    "class Circle(Shape):\n",
    "    def __init__(self, radius):\n",
    "        self.radius = radius\n",
    "        \n",
    "    def area(self):\n",
    "        return 3.14 * (self.radius ** 2)\n",
    "    \n",
    "shapes = [Rectangle(10, 20), Circle(5)]\n",
    "total_area = sum([shape.area() for shape in shapes])\n",
    "print(total_area)\n"
   ]
  },
  {
   "attachments": {},
   "cell_type": "markdown",
   "metadata": {},
   "source": [
    "In this example, the Shape class is open for extension because new shapes can be added by creating new classes that inherit from it. However, the Shape class is closed for modification because it doesn't need to be changed when new shapes are added. The Rectangle and Circle classes extend the Shape class and implement their own area methods.\n",
    "\n"
   ]
  }
 ],
 "metadata": {
  "kernelspec": {
   "display_name": "maskrcnn_benchmark",
   "language": "python",
   "name": "python3"
  },
  "language_info": {
   "codemirror_mode": {
    "name": "ipython",
    "version": 3
   },
   "file_extension": ".py",
   "mimetype": "text/x-python",
   "name": "python",
   "nbconvert_exporter": "python",
   "pygments_lexer": "ipython3",
   "version": "3.9.12"
  },
  "orig_nbformat": 4,
  "vscode": {
   "interpreter": {
    "hash": "814013a47abed058b6276cb7a7ba38921387f2c838b34c96456b3494384f1d2c"
   }
  }
 },
 "nbformat": 4,
 "nbformat_minor": 2
}
