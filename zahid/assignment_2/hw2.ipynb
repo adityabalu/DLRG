{
 "cells": [
  {
   "cell_type": "markdown",
   "metadata": {},
   "source": [
    "## Part:1\n",
    "#Question_1"
   ]
  },
  {
   "cell_type": "code",
   "execution_count": 25,
   "metadata": {},
   "outputs": [
    {
     "data": {
      "text/plain": [
       "array([[1.12689478, 1.50081782, 1.47148662],\n",
       "       [0.72289263, 1.39724897, 1.8606754 ],\n",
       "       [0.97368715, 0.95287312, 0.92780761],\n",
       "       [0.76150068, 1.02724922, 1.12391352],\n",
       "       [0.75775648, 1.13687339, 1.89836913],\n",
       "       [0.18948457, 1.37988112, 1.39628776],\n",
       "       [1.01292789, 1.17042788, 1.70251544],\n",
       "       [0.60159449, 1.67948488, 1.55867698],\n",
       "       [0.47878161, 0.84707499, 1.37605627],\n",
       "       [1.10599207, 1.19959814, 1.24237256]])"
      ]
     },
     "execution_count": 25,
     "metadata": {},
     "output_type": "execute_result"
    }
   ],
   "source": [
    "import numpy as np\n",
    "\n",
    "X = np.random.rand(10,3)\n",
    "Y = np.random.rand(3)\n",
    "\n",
    "#a. no error\n",
    "X+Y \n"
   ]
  },
  {
   "cell_type": "code",
   "execution_count": 12,
   "metadata": {},
   "outputs": [
    {
     "data": {
      "text/plain": [
       "array([[[0.84488626, 0.36177765, 0.41944857],\n",
       "        [0.90958762, 0.53523148, 0.46112702],\n",
       "        [1.12391967, 0.23516991, 1.27018522],\n",
       "        [0.77443586, 0.48986889, 0.6928376 ],\n",
       "        [0.70729222, 0.43833768, 0.51594339],\n",
       "        [0.46407326, 0.87517884, 0.40738835],\n",
       "        [0.59677761, 0.41432991, 1.1431438 ],\n",
       "        [1.25025987, 0.96672416, 0.69504472],\n",
       "        [1.20942973, 0.92611414, 1.20388057],\n",
       "        [1.02656545, 0.44759901, 0.70636503]]])"
      ]
     },
     "execution_count": 12,
     "metadata": {},
     "output_type": "execute_result"
    }
   ],
   "source": [
    "#b. no error\n",
    "X[np.newaxis, :] + Y"
   ]
  },
  {
   "cell_type": "code",
   "execution_count": 8,
   "metadata": {},
   "outputs": [
    {
     "ename": "ValueError",
     "evalue": "operands could not be broadcast together with shapes (10,3) (3,1) ",
     "output_type": "error",
     "traceback": [
      "\u001b[0;31m---------------------------------------------------------------------------\u001b[0m",
      "\u001b[0;31mValueError\u001b[0m                                Traceback (most recent call last)",
      "\u001b[0;32m/var/folders/sx/yc_jdbx15wzgmlync7kv35mc0000gn/T/ipykernel_6692/156957880.py\u001b[0m in \u001b[0;36m<module>\u001b[0;34m\u001b[0m\n\u001b[1;32m      1\u001b[0m \u001b[0;31m#c.\u001b[0m\u001b[0;34m\u001b[0m\u001b[0;34m\u001b[0m\u001b[0;34m\u001b[0m\u001b[0m\n\u001b[0;32m----> 2\u001b[0;31m \u001b[0mX\u001b[0m \u001b[0;34m+\u001b[0m \u001b[0mY\u001b[0m\u001b[0;34m[\u001b[0m\u001b[0;34m:\u001b[0m \u001b[0;34m,\u001b[0m \u001b[0mnp\u001b[0m\u001b[0;34m.\u001b[0m\u001b[0mnewaxis\u001b[0m\u001b[0;34m]\u001b[0m\u001b[0;34m\u001b[0m\u001b[0;34m\u001b[0m\u001b[0m\n\u001b[0m",
      "\u001b[0;31mValueError\u001b[0m: operands could not be broadcast together with shapes (10,3) (3,1) "
     ]
    }
   ],
   "source": [
    "#c. shape error\n",
    "X + Y[: , np.newaxis]"
   ]
  },
  {
   "cell_type": "code",
   "execution_count": 13,
   "metadata": {},
   "outputs": [
    {
     "data": {
      "text/plain": [
       "array([[[0.84488626, 0.36177765, 0.41944857]],\n",
       "\n",
       "       [[0.90958762, 0.53523148, 0.46112702]],\n",
       "\n",
       "       [[1.12391967, 0.23516991, 1.27018522]],\n",
       "\n",
       "       [[0.77443586, 0.48986889, 0.6928376 ]],\n",
       "\n",
       "       [[0.70729222, 0.43833768, 0.51594339]],\n",
       "\n",
       "       [[0.46407326, 0.87517884, 0.40738835]],\n",
       "\n",
       "       [[0.59677761, 0.41432991, 1.1431438 ]],\n",
       "\n",
       "       [[1.25025987, 0.96672416, 0.69504472]],\n",
       "\n",
       "       [[1.20942973, 0.92611414, 1.20388057]],\n",
       "\n",
       "       [[1.02656545, 0.44759901, 0.70636503]]])"
      ]
     },
     "execution_count": 13,
     "metadata": {},
     "output_type": "execute_result"
    }
   ],
   "source": [
    "#d no error\n",
    "X[:, np.newaxis] + Y"
   ]
  },
  {
   "cell_type": "code",
   "execution_count": 16,
   "metadata": {},
   "outputs": [
    {
     "data": {
      "text/plain": [
       "array([[0.84488626, 0.36177765, 0.41944857],\n",
       "       [0.90958762, 0.53523148, 0.46112702],\n",
       "       [1.12391967, 0.23516991, 1.27018522],\n",
       "       [0.77443586, 0.48986889, 0.6928376 ],\n",
       "       [0.70729222, 0.43833768, 0.51594339],\n",
       "       [0.46407326, 0.87517884, 0.40738835],\n",
       "       [0.59677761, 0.41432991, 1.1431438 ],\n",
       "       [1.25025987, 0.96672416, 0.69504472],\n",
       "       [1.20942973, 0.92611414, 1.20388057],\n",
       "       [1.02656545, 0.44759901, 0.70636503]])"
      ]
     },
     "execution_count": 16,
     "metadata": {},
     "output_type": "execute_result"
    }
   ],
   "source": [
    "#e no error\n",
    "X + Y[np.newaxis, :] "
   ]
  },
  {
   "cell_type": "code",
   "execution_count": 17,
   "metadata": {},
   "outputs": [
    {
     "data": {
      "text/plain": [
       "array([[[0.84488626, 0.36177765, 0.41944857]],\n",
       "\n",
       "       [[0.90958762, 0.53523148, 0.46112702]],\n",
       "\n",
       "       [[1.12391967, 0.23516991, 1.27018522]],\n",
       "\n",
       "       [[0.77443586, 0.48986889, 0.6928376 ]],\n",
       "\n",
       "       [[0.70729222, 0.43833768, 0.51594339]],\n",
       "\n",
       "       [[0.46407326, 0.87517884, 0.40738835]],\n",
       "\n",
       "       [[0.59677761, 0.41432991, 1.1431438 ]],\n",
       "\n",
       "       [[1.25025987, 0.96672416, 0.69504472]],\n",
       "\n",
       "       [[1.20942973, 0.92611414, 1.20388057]],\n",
       "\n",
       "       [[1.02656545, 0.44759901, 0.70636503]]])"
      ]
     },
     "execution_count": 17,
     "metadata": {},
     "output_type": "execute_result"
    }
   ],
   "source": [
    "#f no error\n",
    "X[:, np.newaxis, :] + Y "
   ]
  },
  {
   "cell_type": "code",
   "execution_count": 20,
   "metadata": {},
   "outputs": [
    {
     "name": "stdout",
     "output_type": "stream",
     "text": [
      "(10, 5) (10, 5) (10, 5)\n"
     ]
    }
   ],
   "source": [
    "x, y = np.mgrid[:10, :5]\n",
    "z = x + y \n",
    "\n",
    "print(np.shape(x), np.shape(y), np.shape(z))\n"
   ]
  }
 ],
 "metadata": {
  "kernelspec": {
   "display_name": "Python 3.7.12 64-bit",
   "language": "python",
   "name": "python3"
  },
  "language_info": {
   "codemirror_mode": {
    "name": "ipython",
    "version": 3
   },
   "file_extension": ".py",
   "mimetype": "text/x-python",
   "name": "python",
   "nbconvert_exporter": "python",
   "pygments_lexer": "ipython3",
   "version": "3.7.12"
  },
  "orig_nbformat": 4,
  "vscode": {
   "interpreter": {
    "hash": "7a3d88c904243d2c3f246166597f86d1c0a39f3d97496d1fe394945d0c6d436d"
   }
  }
 },
 "nbformat": 4,
 "nbformat_minor": 2
}
