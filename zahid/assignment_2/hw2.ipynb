{
 "cells": [
  {
   "cell_type": "markdown",
   "metadata": {},
   "source": [
    "## Part:1\n",
    "#Question_1"
   ]
  },
  {
   "cell_type": "code",
   "execution_count": 10,
   "metadata": {},
   "outputs": [
    {
     "data": {
      "text/plain": [
       "array([[1.07327335, 1.23710607, 1.36015744],\n",
       "       [0.78146535, 1.32905802, 1.74554251],\n",
       "       [0.95317242, 1.21721301, 1.14535236],\n",
       "       [0.9317272 , 0.7265234 , 1.7489362 ],\n",
       "       [1.29768347, 0.82683106, 1.65756426],\n",
       "       [1.72988159, 1.05062619, 1.39508792],\n",
       "       [1.39364395, 0.99609996, 1.36239465],\n",
       "       [1.32896492, 0.41584073, 1.56753499],\n",
       "       [1.55714456, 1.27603977, 1.54195351],\n",
       "       [1.41884933, 1.159548  , 1.02127991]])"
      ]
     },
     "execution_count": 10,
     "metadata": {},
     "output_type": "execute_result"
    }
   ],
   "source": [
    "import numpy as np\n",
    "\n",
    "X = np.random.rand(10,3)\n",
    "Y = np.random.rand(3)\n",
    "\n",
    "#a. no error\n",
    "X+Y \n"
   ]
  },
  {
   "cell_type": "code",
   "execution_count": 11,
   "metadata": {},
   "outputs": [
    {
     "data": {
      "text/plain": [
       "array([[[1.07327335, 1.23710607, 1.36015744],\n",
       "        [0.78146535, 1.32905802, 1.74554251],\n",
       "        [0.95317242, 1.21721301, 1.14535236],\n",
       "        [0.9317272 , 0.7265234 , 1.7489362 ],\n",
       "        [1.29768347, 0.82683106, 1.65756426],\n",
       "        [1.72988159, 1.05062619, 1.39508792],\n",
       "        [1.39364395, 0.99609996, 1.36239465],\n",
       "        [1.32896492, 0.41584073, 1.56753499],\n",
       "        [1.55714456, 1.27603977, 1.54195351],\n",
       "        [1.41884933, 1.159548  , 1.02127991]]])"
      ]
     },
     "execution_count": 11,
     "metadata": {},
     "output_type": "execute_result"
    }
   ],
   "source": [
    "#b. no error\n",
    "X[np.newaxis, :] + Y"
   ]
  },
  {
   "cell_type": "code",
   "execution_count": 12,
   "metadata": {},
   "outputs": [
    {
     "ename": "ValueError",
     "evalue": "operands could not be broadcast together with shapes (10,3) (3,1) ",
     "output_type": "error",
     "traceback": [
      "\u001b[0;31m---------------------------------------------------------------------------\u001b[0m",
      "\u001b[0;31mValueError\u001b[0m                                Traceback (most recent call last)",
      "\u001b[0;32m/var/folders/sx/yc_jdbx15wzgmlync7kv35mc0000gn/T/ipykernel_18748/2067175171.py\u001b[0m in \u001b[0;36m<module>\u001b[0;34m\u001b[0m\n\u001b[1;32m      1\u001b[0m \u001b[0;31m#c. shape error\u001b[0m\u001b[0;34m\u001b[0m\u001b[0;34m\u001b[0m\u001b[0;34m\u001b[0m\u001b[0m\n\u001b[0;32m----> 2\u001b[0;31m \u001b[0mX\u001b[0m \u001b[0;34m+\u001b[0m \u001b[0mY\u001b[0m\u001b[0;34m[\u001b[0m\u001b[0;34m:\u001b[0m \u001b[0;34m,\u001b[0m \u001b[0mnp\u001b[0m\u001b[0;34m.\u001b[0m\u001b[0mnewaxis\u001b[0m\u001b[0;34m]\u001b[0m\u001b[0;34m\u001b[0m\u001b[0;34m\u001b[0m\u001b[0m\n\u001b[0m",
      "\u001b[0;31mValueError\u001b[0m: operands could not be broadcast together with shapes (10,3) (3,1) "
     ]
    }
   ],
   "source": [
    "#c. shape error\n",
    "X + Y[: , np.newaxis]"
   ]
  },
  {
   "cell_type": "code",
   "execution_count": 13,
   "metadata": {},
   "outputs": [
    {
     "data": {
      "text/plain": [
       "array([[[1.07327335, 1.23710607, 1.36015744]],\n",
       "\n",
       "       [[0.78146535, 1.32905802, 1.74554251]],\n",
       "\n",
       "       [[0.95317242, 1.21721301, 1.14535236]],\n",
       "\n",
       "       [[0.9317272 , 0.7265234 , 1.7489362 ]],\n",
       "\n",
       "       [[1.29768347, 0.82683106, 1.65756426]],\n",
       "\n",
       "       [[1.72988159, 1.05062619, 1.39508792]],\n",
       "\n",
       "       [[1.39364395, 0.99609996, 1.36239465]],\n",
       "\n",
       "       [[1.32896492, 0.41584073, 1.56753499]],\n",
       "\n",
       "       [[1.55714456, 1.27603977, 1.54195351]],\n",
       "\n",
       "       [[1.41884933, 1.159548  , 1.02127991]]])"
      ]
     },
     "execution_count": 13,
     "metadata": {},
     "output_type": "execute_result"
    }
   ],
   "source": [
    "#d no error\n",
    "X[:, np.newaxis] + Y"
   ]
  },
  {
   "cell_type": "code",
   "execution_count": 14,
   "metadata": {},
   "outputs": [
    {
     "data": {
      "text/plain": [
       "array([[1.07327335, 1.23710607, 1.36015744],\n",
       "       [0.78146535, 1.32905802, 1.74554251],\n",
       "       [0.95317242, 1.21721301, 1.14535236],\n",
       "       [0.9317272 , 0.7265234 , 1.7489362 ],\n",
       "       [1.29768347, 0.82683106, 1.65756426],\n",
       "       [1.72988159, 1.05062619, 1.39508792],\n",
       "       [1.39364395, 0.99609996, 1.36239465],\n",
       "       [1.32896492, 0.41584073, 1.56753499],\n",
       "       [1.55714456, 1.27603977, 1.54195351],\n",
       "       [1.41884933, 1.159548  , 1.02127991]])"
      ]
     },
     "execution_count": 14,
     "metadata": {},
     "output_type": "execute_result"
    }
   ],
   "source": [
    "#e no error\n",
    "X + Y[np.newaxis, :] "
   ]
  },
  {
   "cell_type": "code",
   "execution_count": 15,
   "metadata": {},
   "outputs": [
    {
     "data": {
      "text/plain": [
       "array([[[1.07327335, 1.23710607, 1.36015744]],\n",
       "\n",
       "       [[0.78146535, 1.32905802, 1.74554251]],\n",
       "\n",
       "       [[0.95317242, 1.21721301, 1.14535236]],\n",
       "\n",
       "       [[0.9317272 , 0.7265234 , 1.7489362 ]],\n",
       "\n",
       "       [[1.29768347, 0.82683106, 1.65756426]],\n",
       "\n",
       "       [[1.72988159, 1.05062619, 1.39508792]],\n",
       "\n",
       "       [[1.39364395, 0.99609996, 1.36239465]],\n",
       "\n",
       "       [[1.32896492, 0.41584073, 1.56753499]],\n",
       "\n",
       "       [[1.55714456, 1.27603977, 1.54195351]],\n",
       "\n",
       "       [[1.41884933, 1.159548  , 1.02127991]]])"
      ]
     },
     "execution_count": 15,
     "metadata": {},
     "output_type": "execute_result"
    }
   ],
   "source": [
    "#f no error\n",
    "X[:, np.newaxis, :] + Y "
   ]
  },
  {
   "cell_type": "markdown",
   "metadata": {},
   "source": [
    "#Question_2"
   ]
  },
  {
   "cell_type": "code",
   "execution_count": 16,
   "metadata": {},
   "outputs": [
    {
     "name": "stdout",
     "output_type": "stream",
     "text": [
      "x dim= (10, 5) y dim= (10, 5) z dim= (10, 5)\n"
     ]
    }
   ],
   "source": [
    "#a.\n",
    "x, y = np.mgrid[:10, :5]\n",
    "z = x + y \n",
    "\n",
    "print(\"x dim=\", np.shape(x), \"y dim=\", np.shape(y),\"z dim=\", np.shape(z))\n"
   ]
  },
  {
   "cell_type": "code",
   "execution_count": 17,
   "metadata": {},
   "outputs": [
    {
     "name": "stdout",
     "output_type": "stream",
     "text": [
      "x dim= (10, 1) y dim= (1, 5) z dim= (10, 5)\n"
     ]
    }
   ],
   "source": [
    "#b.\n",
    "x, y = np.ogrid[:10, :5]\n",
    "z = x + y \n",
    "\n",
    "print(\"x dim=\", np.shape(x), \"y dim=\", np.shape(y),\"z dim=\", np.shape(z))\n"
   ]
  },
  {
   "cell_type": "markdown",
   "metadata": {},
   "source": [
    "#Question_3\\\n",
    "For np.ogrid only one dimension of each returned array is greater than 1.\n",
    "And np.mgrid returns a dense mesh-grid when indexed, so that each returned argument has the same shape."
   ]
  },
  {
   "cell_type": "code",
   "execution_count": null,
   "metadata": {},
   "outputs": [],
   "source": []
  }
 ],
 "metadata": {
  "kernelspec": {
   "display_name": "Python 3.7.12 64-bit",
   "language": "python",
   "name": "python3"
  },
  "language_info": {
   "codemirror_mode": {
    "name": "ipython",
    "version": 3
   },
   "file_extension": ".py",
   "mimetype": "text/x-python",
   "name": "python",
   "nbconvert_exporter": "python",
   "pygments_lexer": "ipython3",
   "version": "3.7.12"
  },
  "orig_nbformat": 4,
  "vscode": {
   "interpreter": {
    "hash": "7a3d88c904243d2c3f246166597f86d1c0a39f3d97496d1fe394945d0c6d436d"
   }
  }
 },
 "nbformat": 4,
 "nbformat_minor": 2
}
