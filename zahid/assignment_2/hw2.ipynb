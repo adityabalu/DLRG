{
 "cells": [
  {
   "cell_type": "markdown",
   "metadata": {},
   "source": [
    "## Part:1\n",
    "#Question_1"
   ]
  },
  {
   "cell_type": "code",
   "execution_count": 2,
   "metadata": {},
   "outputs": [
    {
     "data": {
      "text/plain": [
       "array([[1.34312488, 0.91966184, 1.80550274],\n",
       "       [1.76681287, 1.22852318, 1.56158052],\n",
       "       [0.93728384, 0.85956838, 1.85267892],\n",
       "       [1.56476984, 1.14642506, 1.66446915],\n",
       "       [1.09013764, 1.13121595, 1.64186796],\n",
       "       [0.99588293, 1.0553035 , 1.63357167],\n",
       "       [0.83417869, 0.81434779, 1.81969226],\n",
       "       [1.39732289, 0.30641944, 0.91953553],\n",
       "       [1.59552832, 1.24776058, 1.02909044],\n",
       "       [1.32325503, 0.40163216, 1.55600823]])"
      ]
     },
     "execution_count": 2,
     "metadata": {},
     "output_type": "execute_result"
    }
   ],
   "source": [
    "import numpy as np\n",
    "\n",
    "X = np.random.rand(10,3)\n",
    "Y = np.random.rand(3)\n",
    "\n",
    "#a. no error\n",
    "X+Y \n"
   ]
  },
  {
   "cell_type": "code",
   "execution_count": 5,
   "metadata": {},
   "outputs": [
    {
     "data": {
      "text/plain": [
       "array([[[0.91777969, 0.60663692, 1.51007542],\n",
       "        [1.66275464, 0.58597491, 1.07604344],\n",
       "        [1.49707076, 0.62328514, 0.64724245],\n",
       "        [1.3639485 , 0.69684127, 0.67557653],\n",
       "        [0.96239979, 0.88625179, 0.96644351],\n",
       "        [1.57822568, 1.28476507, 0.61074854],\n",
       "        [1.88095139, 0.65839816, 1.37690679],\n",
       "        [1.00148116, 1.10182789, 1.48031742],\n",
       "        [1.41509216, 0.51096511, 0.68717204],\n",
       "        [1.6796643 , 1.29236157, 1.23479418]]])"
      ]
     },
     "execution_count": 5,
     "metadata": {},
     "output_type": "execute_result"
    }
   ],
   "source": [
    "#b. no error\n",
    "X[np.newaxis, :] + Y"
   ]
  },
  {
   "cell_type": "code",
   "execution_count": 6,
   "metadata": {},
   "outputs": [
    {
     "ename": "ValueError",
     "evalue": "operands could not be broadcast together with shapes (10,3) (3,1) ",
     "output_type": "error",
     "traceback": [
      "\u001b[0;31m---------------------------------------------------------------------------\u001b[0m",
      "\u001b[0;31mValueError\u001b[0m                                Traceback (most recent call last)",
      "\u001b[0;32m/var/folders/sx/yc_jdbx15wzgmlync7kv35mc0000gn/T/ipykernel_9158/2067175171.py\u001b[0m in \u001b[0;36m<module>\u001b[0;34m\u001b[0m\n\u001b[1;32m      1\u001b[0m \u001b[0;31m#c. shape error\u001b[0m\u001b[0;34m\u001b[0m\u001b[0;34m\u001b[0m\u001b[0;34m\u001b[0m\u001b[0m\n\u001b[0;32m----> 2\u001b[0;31m \u001b[0mX\u001b[0m \u001b[0;34m+\u001b[0m \u001b[0mY\u001b[0m\u001b[0;34m[\u001b[0m\u001b[0;34m:\u001b[0m \u001b[0;34m,\u001b[0m \u001b[0mnp\u001b[0m\u001b[0;34m.\u001b[0m\u001b[0mnewaxis\u001b[0m\u001b[0;34m]\u001b[0m\u001b[0;34m\u001b[0m\u001b[0;34m\u001b[0m\u001b[0m\n\u001b[0m",
      "\u001b[0;31mValueError\u001b[0m: operands could not be broadcast together with shapes (10,3) (3,1) "
     ]
    }
   ],
   "source": [
    "#c. shape error\n",
    "X + Y[: , np.newaxis]"
   ]
  },
  {
   "cell_type": "code",
   "execution_count": 7,
   "metadata": {},
   "outputs": [
    {
     "data": {
      "text/plain": [
       "array([[[0.91777969, 0.60663692, 1.51007542]],\n",
       "\n",
       "       [[1.66275464, 0.58597491, 1.07604344]],\n",
       "\n",
       "       [[1.49707076, 0.62328514, 0.64724245]],\n",
       "\n",
       "       [[1.3639485 , 0.69684127, 0.67557653]],\n",
       "\n",
       "       [[0.96239979, 0.88625179, 0.96644351]],\n",
       "\n",
       "       [[1.57822568, 1.28476507, 0.61074854]],\n",
       "\n",
       "       [[1.88095139, 0.65839816, 1.37690679]],\n",
       "\n",
       "       [[1.00148116, 1.10182789, 1.48031742]],\n",
       "\n",
       "       [[1.41509216, 0.51096511, 0.68717204]],\n",
       "\n",
       "       [[1.6796643 , 1.29236157, 1.23479418]]])"
      ]
     },
     "execution_count": 7,
     "metadata": {},
     "output_type": "execute_result"
    }
   ],
   "source": [
    "#d no error\n",
    "X[:, np.newaxis] + Y"
   ]
  },
  {
   "cell_type": "code",
   "execution_count": 8,
   "metadata": {},
   "outputs": [
    {
     "data": {
      "text/plain": [
       "array([[0.91777969, 0.60663692, 1.51007542],\n",
       "       [1.66275464, 0.58597491, 1.07604344],\n",
       "       [1.49707076, 0.62328514, 0.64724245],\n",
       "       [1.3639485 , 0.69684127, 0.67557653],\n",
       "       [0.96239979, 0.88625179, 0.96644351],\n",
       "       [1.57822568, 1.28476507, 0.61074854],\n",
       "       [1.88095139, 0.65839816, 1.37690679],\n",
       "       [1.00148116, 1.10182789, 1.48031742],\n",
       "       [1.41509216, 0.51096511, 0.68717204],\n",
       "       [1.6796643 , 1.29236157, 1.23479418]])"
      ]
     },
     "execution_count": 8,
     "metadata": {},
     "output_type": "execute_result"
    }
   ],
   "source": [
    "#e no error\n",
    "X + Y[np.newaxis, :] "
   ]
  },
  {
   "cell_type": "code",
   "execution_count": 9,
   "metadata": {},
   "outputs": [
    {
     "data": {
      "text/plain": [
       "array([[[0.91777969, 0.60663692, 1.51007542]],\n",
       "\n",
       "       [[1.66275464, 0.58597491, 1.07604344]],\n",
       "\n",
       "       [[1.49707076, 0.62328514, 0.64724245]],\n",
       "\n",
       "       [[1.3639485 , 0.69684127, 0.67557653]],\n",
       "\n",
       "       [[0.96239979, 0.88625179, 0.96644351]],\n",
       "\n",
       "       [[1.57822568, 1.28476507, 0.61074854]],\n",
       "\n",
       "       [[1.88095139, 0.65839816, 1.37690679]],\n",
       "\n",
       "       [[1.00148116, 1.10182789, 1.48031742]],\n",
       "\n",
       "       [[1.41509216, 0.51096511, 0.68717204]],\n",
       "\n",
       "       [[1.6796643 , 1.29236157, 1.23479418]]])"
      ]
     },
     "execution_count": 9,
     "metadata": {},
     "output_type": "execute_result"
    }
   ],
   "source": [
    "#f no error\n",
    "X[:, np.newaxis, :] + Y "
   ]
  },
  {
   "cell_type": "markdown",
   "metadata": {},
   "source": [
    "#Question_2"
   ]
  },
  {
   "cell_type": "code",
   "execution_count": 6,
   "metadata": {},
   "outputs": [
    {
     "name": "stdout",
     "output_type": "stream",
     "text": [
      "x dim= (10, 5) y dim= (10, 5) z dim= (10, 5)\n"
     ]
    }
   ],
   "source": [
    "#a.\n",
    "x, y = np.mgrid[:10, :5]\n",
    "z = x + y \n",
    "\n",
    "print(\"x dim=\", np.shape(x), \"y dim=\", np.shape(y),\"z dim=\", np.shape(z))\n"
   ]
  },
  {
   "cell_type": "code",
   "execution_count": 8,
   "metadata": {},
   "outputs": [
    {
     "name": "stdout",
     "output_type": "stream",
     "text": [
      "x dim= (10, 1) y dim= (1, 5) z dim= (10, 5)\n"
     ]
    }
   ],
   "source": [
    "#b.\n",
    "x, y = np.ogrid[:10, :5]\n",
    "z = x + y \n",
    "\n",
    "print(\"x dim=\", np.shape(x), \"y dim=\", np.shape(y),\"z dim=\", np.shape(z))\n"
   ]
  },
  {
   "cell_type": "markdown",
   "metadata": {},
   "source": [
    "#Question_3"
   ]
  },
  {
   "cell_type": "code",
   "execution_count": null,
   "metadata": {},
   "outputs": [],
   "source": []
  }
 ],
 "metadata": {
  "kernelspec": {
   "display_name": "Python 3.7.12 64-bit",
   "language": "python",
   "name": "python3"
  },
  "language_info": {
   "codemirror_mode": {
    "name": "ipython",
    "version": 3
   },
   "file_extension": ".py",
   "mimetype": "text/x-python",
   "name": "python",
   "nbconvert_exporter": "python",
   "pygments_lexer": "ipython3",
   "version": "3.7.12"
  },
  "orig_nbformat": 4,
  "vscode": {
   "interpreter": {
    "hash": "7a3d88c904243d2c3f246166597f86d1c0a39f3d97496d1fe394945d0c6d436d"
   }
  }
 },
 "nbformat": 4,
 "nbformat_minor": 2
}
