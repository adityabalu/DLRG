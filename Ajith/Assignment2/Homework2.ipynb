{
 "cells": [
  {
   "cell_type": "markdown",
   "id": "6118fe5a-fa60-469e-b761-bb0fbe4db892",
   "metadata": {},
   "source": [
    "# Part 1:"
   ]
  },
  {
   "cell_type": "markdown",
   "id": "04d38f2e-fb29-4ea4-9324-cf4ee96ac9d1",
   "metadata": {},
   "source": [
    "1. x is an array of 2 dimensions while y is a one dimensional array. Both arrays need to be have same dimensions for arithmetic operations.\n",
    "Therefore, we add a new axis to array 'y' to increase its dimension to 2. Option **e** is the correct answer."
   ]
  },
  {
   "cell_type": "markdown",
   "id": "61ee219f-3530-4199-b9d7-5e8bd6bf2077",
   "metadata": {},
   "source": [
    "2. a. x, y = np.mgrid[:10, :5] results in x and y having size of (10, 5). The sum of x and y also results in the same sized array.\n",
    "\n",
    "   b. x, y = np.ogrid[:10, :5] results in x and y having sizes of (1, 10) and (5, 1) respectively. However, the sum of x and y produces a (10, 5) array."
   ]
  },
  {
   "cell_type": "markdown",
   "id": "23d39a79-2f01-41b0-864c-feea2cd055a0",
   "metadata": {},
   "source": [
    "3. In the previous question, regardless of how we intialized x, y the result of their summation is same. But the initial size of x and y created using ogrid is smaller than mgrid. When x and y created using the former are called for summation, they are broadcasted w.r.t eachother. However, the instances of mgrid are already broadcasted and require more memory for storage."
   ]
  },
  {
   "cell_type": "markdown",
   "id": "031ce119-e97b-4055-a94a-576614900ea6",
   "metadata": {},
   "source": [
    "#### question 4"
   ]
  },
  {
   "cell_type": "code",
   "execution_count": 1,
   "id": "51387a1b-a9b1-479d-9347-12ab290a1b74",
   "metadata": {},
   "outputs": [
    {
     "name": "stdout",
     "output_type": "stream",
     "text": [
      "[[   0.  198.  303.  736.  871. 1175. 1475. 1544. 1913. 2448.]\n",
      " [ 198.    0.  105.  538.  673.  977. 1277. 1346. 1715. 2250.]\n",
      " [ 303.  105.    0.  433.  568.  872. 1172. 1241. 1610. 2145.]\n",
      " [ 736.  538.  433.    0.  135.  439.  739.  808. 1177. 1712.]\n",
      " [ 871.  673.  568.  135.    0.  304.  604.  673. 1042. 1577.]\n",
      " [1175.  977.  872.  439.  304.    0.  300.  369.  738. 1273.]\n",
      " [1475. 1277. 1172.  739.  604.  300.    0.   69.  438.  973.]\n",
      " [1544. 1346. 1241.  808.  673.  369.   69.    0.  369.  904.]\n",
      " [1913. 1715. 1610. 1177. 1042.  738.  438.  369.    0.  535.]\n",
      " [2448. 2250. 2145. 1712. 1577. 1273.  973.  904.  535.    0.]]\n"
     ]
    },
    {
     "data": {
      "image/png": "[encoded data removed]",
      "text/plain": [
       "<Figure size 432x288 with 2 Axes>"
      ]
     },
     "metadata": {
      "needs_background": "light"
     },
     "output_type": "display_data"
    }
   ],
   "source": [
    "import numpy as np\n",
    "import string\n",
    "import matplotlib.pyplot as plt\n",
    "\n",
    "distances = np.array([0, 198, 303, 736, 871, 1175, 1475, 1544, 1913, 2448])\n",
    "colorbarmap = np.zeros((len(distances), len(distances)))\n",
    "ab = string.ascii_lowercase\n",
    "citynames = [ab[i] for i in range(0, len(distances))]\n",
    "    \n",
    "for i in range(0, len(distances)):\n",
    "    for j in range(0, len(distances)):\n",
    "        colorbarmap[i, j] = abs(distances[i] - distances[j])\n",
    "        \n",
    "print(colorbarmap)\n",
    "fig, ax1 = plt.subplots()\n",
    "ax1.set_xlabel(\"city names\")\n",
    "ax1.set_ylabel(\"city names\")\n",
    "\n",
    "num = np.arange(len(distances))\n",
    "ax1.set_xticks(num, citynames)\n",
    "ax1.set_yticks(num, citynames)\n",
    "\n",
    "im = ax1.imshow(colorbarmap)\n",
    "\n",
    "plt.colorbar(im)\n",
    "plt.show()"
   ]
  },
  {
   "cell_type": "markdown",
   "id": "b66d01c5-7e9a-469e-91ac-705317ad6dd5",
   "metadata": {},
   "source": [
    "#### question 5"
   ]
  },
  {
   "cell_type": "code",
   "execution_count": 2,
   "id": "da35af53-edd5-453c-a100-461bdeba6443",
   "metadata": {},
   "outputs": [
    {
     "name": "stdout",
     "output_type": "stream",
     "text": [
      "[[1, 2, 3], [4, 200000, 6], [7, 8, 9]] [[1, 2, 3], [4, 5, 6], [7, 8, 9]]\n"
     ]
    }
   ],
   "source": [
    "import copy as cp\n",
    "\n",
    "T = [[1, 2, 3], [4, 5, 6], [7, 8, 9]]\n",
    "\n",
    "Q = cp.deepcopy(T)\n",
    "T[1][1] = 200000\n",
    "\n",
    "print(T, Q)\n",
    "\n",
    "#Assignment of variables in python do not copy objects, they create bindings between a target and an object. \n",
    "#So modifying the source object reflects in assigned variable. The deepcopy fucntion creates a new objects and copies the source objects."
   ]
  },
  {
   "cell_type": "markdown",
   "id": "ac97b703-0063-4121-81be-b6db98d3b871",
   "metadata": {},
   "source": [
    "#### question 6"
   ]
  },
  {
   "cell_type": "code",
   "execution_count": 3,
   "id": "fcf4461d-d81c-4c15-a7e8-5deec8319234",
   "metadata": {},
   "outputs": [
    {
     "name": "stdout",
     "output_type": "stream",
     "text": [
      "(array([1, 2, 4, 5, 6, 7]),)\n",
      "(array([0, 8]),)\n"
     ]
    }
   ],
   "source": [
    "import numpy as np\n",
    "\n",
    "X = np.array([5, 9, 77, 0, 74, 55, 81, 79, 90])\n",
    "Y = np.array([5, 1, 46, 2, 10, 29, 55, 4, 90])\n",
    "\n",
    "Z = np.where(X>Y)\n",
    "\n",
    "A = np.where(X==Y)\n",
    "\n",
    "print(Z)\n",
    "print(A)"
   ]
  },
  {
   "cell_type": "markdown",
   "id": "de26d371-b233-4d81-b89a-ae4572f27cf2",
   "metadata": {},
   "source": [
    "## Part 2: \n",
    "## 1. Tensor Manipulations"
   ]
  },
  {
   "cell_type": "code",
   "execution_count": 4,
   "id": "c3ba171f-cb1a-468c-8e0f-fd5bc2394413",
   "metadata": {},
   "outputs": [],
   "source": [
    "import torchvision\n",
    "import numpy as np\n",
    "import matplotlib.pyplot as plt\n",
    "import matplotlib.image as mpimg"
   ]
  },
  {
   "cell_type": "code",
   "execution_count": 5,
   "id": "9d0cf224-19de-438e-b34d-a10339cd5170",
   "metadata": {},
   "outputs": [],
   "source": [
    "MNIST = torchvision.datasets.MNIST(root='./data', train=True, download=True, transform=None)\n",
    "im_shape = np.array(MNIST[0][0]).shape\n",
    "im_size = np.size(np.array(MNIST[0][0]))"
   ]
  },
  {
   "cell_type": "markdown",
   "id": "c1bf6d6a-1f71-4b8f-897d-5a843d991b6e",
   "metadata": {
    "tags": []
   },
   "source": [
    "#### a) Visualize the first 5 numbers"
   ]
  },
  {
   "cell_type": "code",
   "execution_count": 6,
   "id": "304e0208-4c62-4b93-a13f-204369bee966",
   "metadata": {},
   "outputs": [
    {
     "data": {
      "image/png": "[encoded data removed]",
      "text/plain": [
       "<Figure size 432x288 with 5 Axes>"
      ]
     },
     "metadata": {
      "needs_background": "light"
     },
     "output_type": "display_data"
    }
   ],
   "source": [
    "fig, ax = plt.subplots(5)\n",
    "display_imgs = [ax[i].imshow(MNIST[i][0]) for i in range(5)]"
   ]
  },
  {
   "cell_type": "markdown",
   "id": "890a1b01-2490-4eae-9d2a-1cf4018a5200",
   "metadata": {
    "tags": []
   },
   "source": [
    "#### b) Flip and Transpose"
   ]
  },
  {
   "cell_type": "code",
   "execution_count": 7,
   "id": "597c95e9-f752-4ff0-97a0-1ba37289396e",
   "metadata": {},
   "outputs": [
    {
     "data": {
      "text/plain": [
       "<matplotlib.image.AxesImage at 0x140fb4d30>"
      ]
     },
     "execution_count": 7,
     "metadata": {},
     "output_type": "execute_result"
    },
    {
     "data": {
      "image/png": "[encoded data removed]",
      "text/plain": [
       "<Figure size 432x288 with 1 Axes>"
      ]
     },
     "metadata": {
      "needs_background": "light"
     },
     "output_type": "display_data"
    }
   ],
   "source": [
    "plt.imshow(np.flip(np.array(MNIST[2][0]).T, 0))"
   ]
  },
  {
   "cell_type": "markdown",
   "id": "98b6bf1c-67ac-4863-9b32-74a12842b59c",
   "metadata": {},
   "source": [
    "#### c) Create a batch of MNIST digits and flatten it to a single vector"
   ]
  },
  {
   "cell_type": "code",
   "execution_count": 8,
   "id": "42401543-f92f-4536-adab-de7a59fd08a9",
   "metadata": {},
   "outputs": [],
   "source": [
    "batch_size = 10\n",
    "images = np.array([np.array(MNIST[i][0]) for i in range(batch_size)]).flatten()"
   ]
  },
  {
   "cell_type": "markdown",
   "id": "6e91db60-6b30-472c-a537-3e05e1bad440",
   "metadata": {},
   "source": [
    "#### d) Visualize  all  numbers  in the batch  vertically  by  collapsing  the  batch dimension with the other appropriate dimension. "
   ]
  },
  {
   "cell_type": "code",
   "execution_count": 9,
   "id": "368e9cee-fab7-408f-a3b6-049a2b168120",
   "metadata": {},
   "outputs": [
    {
     "data": {
      "text/plain": [
       "<matplotlib.image.AxesImage at 0x14381e0b0>"
      ]
     },
     "execution_count": 9,
     "metadata": {},
     "output_type": "execute_result"
    },
    {
     "data": {
      "image/png": "[encoded data removed]",
      "text/plain": [
       "<Figure size 432x288 with 1 Axes>"
      ]
     },
     "metadata": {
      "needs_background": "light"
     },
     "output_type": "display_data"
    }
   ],
   "source": [
    "def vertical_plot(flat_arr):    \n",
    "    return plt.imshow(np.reshape(flat_arr, (-1, im_shape[1])))\n",
    "\n",
    "vertical_plot(images)"
   ]
  },
  {
   "cell_type": "markdown",
   "id": "f6fd16e6-b410-4a54-8bad-ac3b14a7fb12",
   "metadata": {},
   "source": [
    "#### e) Now visualize all numbers in the batch horizontally"
   ]
  },
  {
   "cell_type": "code",
   "execution_count": 10,
   "id": "25cb9439-fb9c-4a02-9d41-bd300cdef42c",
   "metadata": {},
   "outputs": [
    {
     "data": {
      "text/plain": [
       "<matplotlib.image.AxesImage at 0x14389c3d0>"
      ]
     },
     "execution_count": 10,
     "metadata": {},
     "output_type": "execute_result"
    },
    {
     "data": {
      "image/png": "[encoded data removed]",
      "text/plain": [
       "<Figure size 432x288 with 1 Axes>"
      ]
     },
     "metadata": {
      "needs_background": "light"
     },
     "output_type": "display_data"
    }
   ],
   "source": [
    "plt.imshow(np.hstack(np.split(np.reshape(images, (-1, im_shape[1])), batch_size, axis=0)))"
   ]
  },
  {
   "cell_type": "markdown",
   "id": "34bd8fc3-7025-4176-9982-b62f8e248120",
   "metadata": {},
   "source": [
    "#### f) Split the batch dimension into two new batches and plot horizontally."
   ]
  },
  {
   "cell_type": "code",
   "execution_count": 11,
   "id": "0c7e731a-b175-40cb-a22d-83287fefc04f",
   "metadata": {},
   "outputs": [
    {
     "data": {
      "text/plain": [
       "<matplotlib.image.AxesImage at 0x1438e32e0>"
      ]
     },
     "execution_count": 11,
     "metadata": {},
     "output_type": "execute_result"
    },
    {
     "data": {
      "image/png": "[encoded data removed]",
      "text/plain": [
       "<Figure size 432x288 with 1 Axes>"
      ]
     },
     "metadata": {
      "needs_background": "light"
     },
     "output_type": "display_data"
    }
   ],
   "source": [
    "plt.imshow(np.vstack(np.split(np.hstack(np.split(np.reshape(images, (-1, im_shape[1])), batch_size, axis=0)), 2, axis=1)))"
   ]
  },
  {
   "cell_type": "markdown",
   "id": "034f4e24-3c47-4206-80f9-69107118000d",
   "metadata": {},
   "source": [
    "## 2. More Tensor Manipulations and Plotting"
   ]
  },
  {
   "cell_type": "markdown",
   "id": "80f67d95-2e56-4e38-8280-d5a7c1f1fc10",
   "metadata": {},
   "source": [
    "#### a) Normalize the batch of data to only contain values between [0,1]"
   ]
  },
  {
   "cell_type": "code",
   "execution_count": 12,
   "id": "3e03e6df-4075-4645-8916-ac1885b471ef",
   "metadata": {},
   "outputs": [],
   "source": [
    "images_norm = images/np.linalg.norm(images)"
   ]
  },
  {
   "cell_type": "markdown",
   "id": "6c491a20-e225-4209-b217-77429ccbe1d0",
   "metadata": {},
   "source": [
    "#### b) Find the mean of each sample in the batch."
   ]
  },
  {
   "cell_type": "code",
   "execution_count": 13,
   "id": "2c3a5aac-3d64-430f-9d65-c45f7370b8eb",
   "metadata": {},
   "outputs": [],
   "source": [
    "images_mean = [np.mean(images[i*im_size:(i+1)*im_size]) for i in range(batch_size)]"
   ]
  },
  {
   "cell_type": "markdown",
   "id": "bddb9049-ee4a-4d4b-9398-9e4aa5cd7630",
   "metadata": {},
   "source": [
    "#### c) Plot the means in a histogram using the matplotlib library."
   ]
  },
  {
   "cell_type": "code",
   "execution_count": 14,
   "id": "b4cecec4-3bf9-4350-9074-cf1bb4efdf9c",
   "metadata": {},
   "outputs": [
    {
     "data": {
      "image/png": "[encoded data removed]",
      "text/plain": [
       "<Figure size 432x288 with 1 Axes>"
      ]
     },
     "metadata": {
      "needs_background": "light"
     },
     "output_type": "display_data"
    }
   ],
   "source": [
    "def plotHist(vector, hBin, xlabel):\n",
    "    fig, ax = plt.subplots(1)\n",
    "    ax.hist(vector, bins=hBin)\n",
    "    ax.set_ylabel('Frequency')\n",
    "    ax.set_xlabel(xlabel)\n",
    "    plt.show()\n",
    "plotHist(images_mean, [10, 15, 20, 25, 30, 35, 40, 45, 50], 'Mean pixel intensity')"
   ]
  },
  {
   "cell_type": "markdown",
   "id": "69834e9e-4e94-4fc0-bfd7-ded8cb8212f7",
   "metadata": {},
   "source": [
    "#### d) Create a 3D plot of a single MNIST digit using matplotlib."
   ]
  },
  {
   "cell_type": "code",
   "execution_count": 15,
   "id": "a3260f10-0eac-4668-b54c-eacc26fa8615",
   "metadata": {},
   "outputs": [
    {
     "data": {
      "text/plain": [
       "<mpl_toolkits.mplot3d.art3d.Path3DCollection at 0x143b19210>"
      ]
     },
     "execution_count": 15,
     "metadata": {},
     "output_type": "execute_result"
    },
    {
     "data": {
      "image/png": "[encoded data removed]",
      "text/plain": [
       "<Figure size 432x288 with 1 Axes>"
      ]
     },
     "metadata": {
      "needs_background": "light"
     },
     "output_type": "display_data"
    }
   ],
   "source": [
    "from mpl_toolkits.mplot3d import Axes3D\n",
    "\n",
    "xv, yv = np.meshgrid(range(im_shape[0]), range(im_shape[1]))\n",
    "image = np.array(MNIST[0][0])\n",
    "fig = plt.figure()\n",
    "ax = fig.add_subplot(111, projection='3d')\n",
    "ax.scatter(xv, yv, image)"
   ]
  },
  {
   "cell_type": "markdown",
   "id": "cc6f875d-3d46-486c-9866-664bb79cc706",
   "metadata": {},
   "source": [
    "#### e) Order each sample in your MNIST dataset by digit."
   ]
  },
  {
   "cell_type": "code",
   "execution_count": 16,
   "id": "e96c04d4-362e-4c45-a163-01223d73b292",
   "metadata": {},
   "outputs": [
    {
     "data": {
      "text/plain": [
       "<matplotlib.image.AxesImage at 0x143ba3310>"
      ]
     },
     "execution_count": 16,
     "metadata": {},
     "output_type": "execute_result"
    },
    {
     "data": {
      "image/png": "[encoded data removed]",
      "text/plain": [
       "<Figure size 432x288 with 1 Axes>"
      ]
     },
     "metadata": {
      "needs_background": "light"
     },
     "output_type": "display_data"
    }
   ],
   "source": [
    "labels = MNIST.targets[0:batch_size].numpy()\n",
    "ordered_images = np.array(np.split(images, batch_size, axis=0))[np.argsort(labels)].flatten()\n",
    "vertical_plot(ordered_images)"
   ]
  },
  {
   "cell_type": "markdown",
   "id": "97b241dd-033e-4e75-b32a-29280d81d30b",
   "metadata": {},
   "source": [
    "#### f) Use the matplotlib  subplot function to recreate the above histogram, but for each individual digit."
   ]
  },
  {
   "cell_type": "code",
   "execution_count": 17,
   "id": "6e84d2b6-7440-4091-89eb-a0ff3bdb46a3",
   "metadata": {},
   "outputs": [
    {
     "data": {
      "image/png": "[encoded data removed]",
      "text/plain": [
       "<Figure size 432x288 with 1 Axes>"
      ]
     },
     "metadata": {
      "needs_background": "light"
     },
     "output_type": "display_data"
    }
   ],
   "source": [
    "labels = MNIST.targets\n",
    "bins = [0, 1, 2, 3, 4, 5, 6, 7, 8, 9]\n",
    "fig, ax = plt.subplots(1)\n",
    "ax.hist(labels, bins)\n",
    "ax.set_xticks(bins)\n",
    "plt.show()"
   ]
  },
  {
   "cell_type": "markdown",
   "id": "ce037bad-3e1e-411a-bbd1-76f70fa349da",
   "metadata": {},
   "source": [
    "## Part 3:"
   ]
  },
  {
   "cell_type": "markdown",
   "id": "4cbad108-e7c3-4570-a881-ab62209fb1ce",
   "metadata": {},
   "source": [
    "#### 1. Give 4 examples where only one of these data structures are useful and no other data structure would be efficient. (i) Lists (ii) Sets (ii) Tuples (iv) Dicts \n",
    "i) Lists are python's inbuilt array-like data structure. Lists can contain any data type. They are useful for storing and indexing unstructured multiple-type data.\n",
    "\n",
    "ii) Sets are non-iterable, immutable and unordered. Sets also do not support duplicate elements. They are useful for storing unique datastructures and can be used for verifying the membership. Sets are very close to mathematical definition of sets and therefore support general set operations such as union, intersection, difference etc.\n",
    "\n",
    "iii) Tuples are similar to list except that they are immutable. Therefore tuples are memory efficient and generally faster to index when compared to lists. If we want immutable lists with a slightly better performance, we should consider using tuples.\n",
    "\n",
    "iv) A dictionary is a collection of key-value pairs. They are useful when you want to associate a value (object) with a key. Accessing the value of a key is faster in dictionaries compared to list indexing."
   ]
  },
  {
   "cell_type": "markdown",
   "id": "132c97df-fada-4034-ad53-f0bd31857e01",
   "metadata": {},
   "source": [
    "#### 2. Write 5 python codes to demonstrate each of the 5 principles in SOLID principles. "
   ]
  },
  {
   "cell_type": "code",
   "execution_count": 30,
   "id": "984d2b4e-2fa7-4396-86f7-378e27239b96",
   "metadata": {},
   "outputs": [
    {
     "name": "stdout",
     "output_type": "stream",
     "text": [
      "Roar\n",
      "Purr\n"
     ]
    }
   ],
   "source": [
    "#Single Responsibility Principle\n",
    "##bad design\n",
    "class user:\n",
    "    def getName(self, name):\n",
    "        self.name = name\n",
    "    def getAge(self, age):\n",
    "        self.age = age\n",
    "    def saveData(self, name):\n",
    "        pass\n",
    "###Individual classes should have single responsibility. For example, class user should only be concerned about user attributes and not about database management.\n",
    "###Therefore, a good design according to SRP would be to implement database management as a seperate class.\n",
    "##good design\n",
    "class user:\n",
    "    def getName(self, name):\n",
    "        self.name = name\n",
    "    def getAge(self, age):\n",
    "        self.age = age\n",
    "\n",
    "class userDB(user):\n",
    "    def saveData(self, name):\n",
    "        pass\n",
    "\n",
    "    \n",
    "#Open-Closed Principle\n",
    "##bad design\n",
    "class Animal:\n",
    "    def __init__(self, name):\n",
    "        self.name = name\n",
    "\n",
    "def animalSounds(animals):\n",
    "    for animal in animals:\n",
    "        if animal.name=='Lion':\n",
    "            print('Roar')\n",
    "        if animal.name=='Cat':\n",
    "            print('Purr')\n",
    "\n",
    "##good design\n",
    "###Interfaces should be extensible rather than being modified. In the above bad design example, animalSounds function has to modified everytime a new animal class is introduced.\n",
    "###A good design would have animalSounds as an attribute of super-class Animals, so that it can be extended when a new class of animal is introduced.\n",
    "class Animal:\n",
    "    def __init__(self, name):\n",
    "        self.name = name\n",
    "    def makeSound(self):\n",
    "        pass\n",
    "\n",
    "class Lion(Animal):\n",
    "    def makeSound(self):\n",
    "        print(\"Roar\")\n",
    "\n",
    "class Cat(Animal):\n",
    "    def makeSound(self):\n",
    "        print(\"Purr\")\n",
    "\n",
    "\n",
    "#Liskov Substitution Principle\n",
    "##bad design\n",
    "class Animal:\n",
    "    def __init__(self, name):\n",
    "        self.name = name\n",
    "\n",
    "def animalSounds(animals):\n",
    "    for animal in animals:\n",
    "        if animal.name=='Lion':\n",
    "            print('Roar')\n",
    "        if animal.name=='Cat':\n",
    "            print('Purr')\n",
    "###A sub-class must be substitutable for its super-class, i.e. a sub-class/function should be able to call the method without checking for the type.\n",
    "###A good implementation of LSP has subclasses which can implement the super-class methods without any errors.\n",
    "##good design\n",
    "class Animal:\n",
    "    def __init__(self, name):\n",
    "        self.name = name\n",
    "    def makeSound(self):\n",
    "        pass\n",
    "\n",
    "class Lion(Animal):\n",
    "    def makeSound(self):\n",
    "        print(\"Roar\")\n",
    "\n",
    "class Cat(Animal):\n",
    "    def makeSound(self):\n",
    "        print(\"Purr\")\n",
    "\n",
    "def animalSounds(animals):\n",
    "    for animal in animals:\n",
    "        animal.makeSound()\n",
    "\n",
    "#Interface Segregation Principle\n",
    "##bad design\n",
    "class Animal:\n",
    "    def eats_grass(self):\n",
    "        pass\n",
    "    def eats_grain(self):\n",
    "        pass\n",
    "    def eats_meat(self):\n",
    "        pass\n",
    "###ISP states that instance specific attributes should be left to sub-classes.\n",
    "##good design\n",
    "class Animal:\n",
    "    def eats(self):\n",
    "        pass\n",
    "\n",
    "class Lion(Animal):\n",
    "    def eats(self):\n",
    "        pass\n",
    "\n",
    "class Deer(Animal):\n",
    "    def eats(self):\n",
    "        pass\n",
    "\n",
    "class Pigeon(Animal):\n",
    "    def eats(self):\n",
    "        pass\n",
    "\n",
    "#Dependency Inversion Principle\n",
    "##bad design\n",
    "class feedGrass:\n",
    "    def feed(self):\n",
    "        pass\n",
    "\n",
    "class Deer:\n",
    "    def eats(self):\n",
    "        food = feedGrass()\n",
    "        food.feed()\n",
    "\n",
    "deer1 = Deer()\n",
    "deer1.eats()\n",
    "###Dependency should be on abstractions not concretions\n",
    "###A. High-level modules should not depend upon low-level modules. Both should depend upon abstractions.\n",
    "###B. Abstractions should not depend on details. Details should depend upon abstractions.\n",
    "###Deer class instantiates the feedGrass class and used the feed method. \n",
    "###In future, if the deer doesn't want to eat grass anymore, they will starve because the system is hardwired to feed grass.\n",
    "###A design complying with DIP includes an abstraction layer to keep system stable by making both feedGrass and Deer dependent on it. Such that if deer \n",
    "##good design\n",
    "class feed:\n",
    "    def feed(self):\n",
    "        pass\n",
    "\n",
    "class feedGrass(feed):\n",
    "    def feed(self):\n",
    "        pass\n",
    "\n",
    "class feedGrain(feed):\n",
    "    def feed(self):\n",
    "        pass\n",
    "\n",
    "class Deer:\n",
    "    def eats(self, food_type: feed):\n",
    "        food = food_type\n",
    "        food.feed()\n",
    "\n",
    "deer1 = Deer()\n",
    "deer1.eats(feedGrain)"
   ]
  },
  {
   "cell_type": "markdown",
   "id": "1cc452c6-d748-476c-9767-01647df34fad",
   "metadata": {},
   "source": [
    "#### 3. Write a program which can read from both command line arguments and a yaml file. i.e. you will have  the  default configuration  for the parameters provided in  a yaml  file  and  you  can  override  them  using  command  line  arguments  and  every time you run the  code, it  should create a run folder (automatically incrementing the version number of the run) and store the parameters used for the run in that folder. "
   ]
  },
  {
   "cell_type": "code",
   "execution_count": 19,
   "id": "c443b1e0-3e55-4353-845a-473bcfef6052",
   "metadata": {},
   "outputs": [
    {
     "name": "stdout",
     "output_type": "stream",
     "text": [
      "{'array1': [1, 2, 3, 4, 5, 6], 'num': 10, 'version': 3}\n"
     ]
    },
    {
     "name": "stdin",
     "output_type": "stream",
     "text": [
      "Override 'num' in config? [y/n] n\n"
     ]
    },
    {
     "name": "stdout",
     "output_type": "stream",
     "text": [
      "[11 12 13 14 15 16]\n"
     ]
    }
   ],
   "source": [
    "import yaml\n",
    "import os, sys\n",
    "\n",
    "with open('hm2.yaml') as f:\n",
    "    config = yaml.safe_load(f)\n",
    "\n",
    "def sum(array, scalar):\n",
    "    return np.array(array) + scalar\n",
    "\n",
    "def callsum():\n",
    "    print(config)\n",
    "    x = input(\"Override 'num' in config? [y/n]\")\n",
    "    scalar = float(input(\"Provide a new num: \")) if x=='y' else config[\"num\"]\n",
    "    print(sum(config[\"array1\"], scalar))\n",
    "\n",
    "callsum()\n",
    "    \n",
    "foldername = 'run' + f'-{config[\"version\"]}'\n",
    "os.mkdir(foldername)\n",
    "path = f'/Users/ajithmoola/dlml/DLRG_assignments/{foldername}/run.yaml'\n",
    "increaseRefCountth open('hm2.yaml', 'w') as f:\n",
    "    config[\"version\"] = int(config[\"version\"]) + 1\n",
    "    yaml.dump(config, f)\n",
    "    with open(path, 'w') as f1:\n",
    "        yaml.dump(config, f1)"
   ]
  },
  {
   "cell_type": "markdown",
   "id": "3e5226f9-da2f-4f8c-8cae-1fa794487f8f",
   "metadata": {},
   "source": [
    "#### 4. Write a program that can manually increase the reference count of variables and then  manually  call  the  garbage  collection  to  happen.  For  this,  you  will  have  to create a Class and instantiate it. "
   ]
  },
  {
   "cell_type": "code",
   "execution_count": 27,
   "id": "ec484c7f-43c6-4ac2-ac9d-e61a3bf1ec0b",
   "metadata": {},
   "outputs": [
    {
     "name": "stdin",
     "output_type": "stream",
     "text": [
      "Warning: There are existing references to this object. Override? y/n n\n"
     ]
    },
    {
     "name": "stdout",
     "output_type": "stream",
     "text": [
      "Exiting garbage collection program\n"
     ]
    }
   ],
   "source": [
    "import sys\n",
    "import gc\n",
    "\n",
    "class myObject:\n",
    "    def __init__(self, data):\n",
    "        self.var = data\n",
    "        self.refCount = 1\n",
    "    \n",
    "    def increaseRefCount(self):\n",
    "        self.refCount += 1\n",
    "    \n",
    "    def decreaseRefCount(self):\n",
    "        self.refCount += -1\n",
    "    \n",
    "    def collectGarbage(self):\n",
    "        if self.refCount!=0:\n",
    "            x = input(\"Warning: There are existing references to this object. Override? y/n\")\n",
    "            if x=='y':\n",
    "                print(\"Collecting garbage...\")\n",
    "                gc.collect\n",
    "                print(\"Object deleted\")\n",
    "            else:\n",
    "                print(\"Exiting garbage collection program\")\n",
    "                      \n",
    "x = myObject(2)\n",
    "y = x\n",
    "x.increaseRefCount()\n",
    "x.collectGarbage()"
   ]
  },
  {
   "cell_type": "markdown",
   "id": "91957fd7-7775-401e-bc5d-e83de85713b7",
   "metadata": {},
   "source": [
    "#### 5. Write a program to take a command line input of a given image name (can be any format,  bmp,  jpg,  jpeg,  png,  tiff  etc.)  and  convert  that  image  into  a  JPG  format image with resolution of 224x224 (irrespective of the original image size)"
   ]
  },
  {
   "cell_type": "code",
   "execution_count": 28,
   "id": "fc85af74-1962-4d72-9a46-80cda7e616d2",
   "metadata": {},
   "outputs": [
    {
     "name": "stdin",
     "output_type": "stream",
     "text": [
      "Enter image file name:  lena_color.tiff\n"
     ]
    }
   ],
   "source": [
    "from PIL import Image\n",
    "\n",
    "file = input(\"Enter image file name: \")\n",
    "image = Image.open(file)\n",
    "resized_img = image.resize((224, 224))\n",
    "resized_img.save((file.split(\".\")[0]+\"_resized\"+\".JPG\"))"
   ]
  },
  {
   "cell_type": "markdown",
   "id": "fd8e814f-3e0f-4067-9e32-bf00bcb8ef88",
   "metadata": {},
   "source": [
    "#### 6. Load 100 images from the MNIST dataset and store the files together into one file. Using any of the known extension like h5, npy, npz, pkl, mat. Report the disk space taken for each method. Can you reduce the size further? \n",
    "\n",
    "Disk space occupied by each method:\n",
    "\n",
    "* h5 - 80.4kB\n",
    "* npy - 78.5kB\n",
    "* npz - 78.7kB\n",
    "* pkl - 78.6kB\n",
    "* mat - 78.6kB\n",
    "\n",
    "Yes, the size can be reduced by using gzip package"
   ]
  },
  {
   "cell_type": "code",
   "execution_count": 31,
   "id": "80c959fc-fee5-4092-866a-6cf907de84ab",
   "metadata": {},
   "outputs": [
    {
     "name": "stderr",
     "output_type": "stream",
     "text": [
      "/opt/homebrew/Caskroom/miniconda/base/envs/dlrg/lib/python3.10/site-packages/scipy/__init__.py:146: UserWarning: A NumPy version >=1.16.5 and <1.23.0 is required for this version of SciPy (detected version 1.23.5\n",
      "  warnings.warn(f\"A NumPy version >={np_minversion} and <{np_maxversion}\"\n"
     ]
    }
   ],
   "source": [
    "import h5py\n",
    "import pickle\n",
    "from scipy import io\n",
    "\n",
    "images = MNIST.data[0:100].numpy()\n",
    "\n",
    "class h5:\n",
    "    def save(array, filename):\n",
    "        with h5py.File(f'{filename}.h5', 'w') as f:\n",
    "            f.create_dataset(\"100 images\", data=array)\n",
    "class npy:\n",
    "    def save(array, filename):\n",
    "        np.save(f'{filename}.npy', array)\n",
    "class npz:\n",
    "    def save(array, filename):\n",
    "        np.savez(f'{filename}.npz', array)\n",
    "class pkl:\n",
    "    def save(array, filename):\n",
    "        with open(f'{filename}.pkl', 'wb') as f:\n",
    "            pickle.dump(array, f)\n",
    "class mat:\n",
    "    def save(array, filename):\n",
    "        io.savemat(f'{filename}.mat', {'images': array})\n",
    "\n",
    "extensions = {'h5': h5, 'npy': npy, 'npz': npz, 'pkl': pkl, 'mat': mat}\n",
    "\n",
    "for ext in extensions:\n",
    "    extensions[ext].save(images, 'images')"
   ]
  }
 ],
 "metadata": {
  "kernelspec": {
   "display_name": "Python 3 (ipykernel)",
   "language": "python",
   "name": "python3"
  },
  "language_info": {
   "codemirror_mode": {
    "name": "ipython",
    "version": 3
   },
   "file_extension": ".py",
   "mimetype": "text/x-python",
   "name": "python",
   "nbconvert_exporter": "python",
   "pygments_lexer": "ipython3",
   "version": "3.10.9"
  }
 },
 "nbformat": 4,
 "nbformat_minor": 5
}
