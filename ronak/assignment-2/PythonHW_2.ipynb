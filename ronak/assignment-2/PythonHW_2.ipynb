{
  "nbformat": 4,
  "nbformat_minor": 0,
  "metadata": {
    "colab": {
      "provenance": [],
      "collapsed_sections": []
    },
    "kernelspec": {
      "name": "python3",
      "display_name": "Python 3"
    },
    "language_info": {
      "name": "python"
    },
    "widgets": {
      "application/vnd.jupyter.widget-state+json": {
        "675cd542c4364f08b5068bad9ec4869b": {
          "model_module": "@jupyter-widgets/controls",
          "model_name": "HBoxModel",
          "model_module_version": "1.5.0",
          "state": {
            "_dom_classes": [],
            "_model_module": "@jupyter-widgets/controls",
            "_model_module_version": "1.5.0",
            "_model_name": "HBoxModel",
            "_view_count": null,
            "_view_module": "@jupyter-widgets/controls",
            "_view_module_version": "1.5.0",
            "_view_name": "HBoxView",
            "box_style": "",
            "children": [
              "IPY_MODEL_ae7765d25f124c9ba91b827065642b38",
              "IPY_MODEL_81b5c76b486e4c64b48cc763200b0348",
              "IPY_MODEL_9020bef4ca0b4ada90c8cd8f79e95156"
            ],
            "layout": "IPY_MODEL_4ffa9a6c7fa44610a138ef8f70cad672"
          }
        },
        "ae7765d25f124c9ba91b827065642b38": {
          "model_module": "@jupyter-widgets/controls",
          "model_name": "HTMLModel",
          "model_module_version": "1.5.0",
          "state": {
            "_dom_classes": [],
            "_model_module": "@jupyter-widgets/controls",
            "_model_module_version": "1.5.0",
            "_model_name": "HTMLModel",
            "_view_count": null,
            "_view_module": "@jupyter-widgets/controls",
            "_view_module_version": "1.5.0",
            "_view_name": "HTMLView",
            "description": "",
            "description_tooltip": null,
            "layout": "IPY_MODEL_379ab014d19247cb9fa35e250c4f4ddb",
            "placeholder": "​",
            "style": "IPY_MODEL_4b06769b708946c3aee3a2872e7c56b8",
            "value": "100%"
          }
        },
        "81b5c76b486e4c64b48cc763200b0348": {
          "model_module": "@jupyter-widgets/controls",
          "model_name": "FloatProgressModel",
          "model_module_version": "1.5.0",
          "state": {
            "_dom_classes": [],
            "_model_module": "@jupyter-widgets/controls",
            "_model_module_version": "1.5.0",
            "_model_name": "FloatProgressModel",
            "_view_count": null,
            "_view_module": "@jupyter-widgets/controls",
            "_view_module_version": "1.5.0",
            "_view_name": "ProgressView",
            "bar_style": "success",
            "description": "",
            "description_tooltip": null,
            "layout": "IPY_MODEL_f5b073ea60764fb4ad8606b1474be32c",
            "max": 9912422,
            "min": 0,
            "orientation": "horizontal",
            "style": "IPY_MODEL_72e45ee80b9c4883bbecf190dbc21249",
            "value": 9912422
          }
        },
        "9020bef4ca0b4ada90c8cd8f79e95156": {
          "model_module": "@jupyter-widgets/controls",
          "model_name": "HTMLModel",
          "model_module_version": "1.5.0",
          "state": {
            "_dom_classes": [],
            "_model_module": "@jupyter-widgets/controls",
            "_model_module_version": "1.5.0",
            "_model_name": "HTMLModel",
            "_view_count": null,
            "_view_module": "@jupyter-widgets/controls",
            "_view_module_version": "1.5.0",
            "_view_name": "HTMLView",
            "description": "",
            "description_tooltip": null,
            "layout": "IPY_MODEL_3486b4c8cf514d1fb2dff98be8f1cd42",
            "placeholder": "​",
            "style": "IPY_MODEL_089b8b4d4c4e40e9895f0ed402a3d374",
            "value": " 9912422/9912422 [00:00&lt;00:00, 17241760.60it/s]"
          }
        },
        "4ffa9a6c7fa44610a138ef8f70cad672": {
          "model_module": "@jupyter-widgets/base",
          "model_name": "LayoutModel",
          "model_module_version": "1.2.0",
          "state": {
            "_model_module": "@jupyter-widgets/base",
            "_model_module_version": "1.2.0",
            "_model_name": "LayoutModel",
            "_view_count": null,
            "_view_module": "@jupyter-widgets/base",
            "_view_module_version": "1.2.0",
            "_view_name": "LayoutView",
            "align_content": null,
            "align_items": null,
            "align_self": null,
            "border": null,
            "bottom": null,
            "display": null,
            "flex": null,
            "flex_flow": null,
            "grid_area": null,
            "grid_auto_columns": null,
            "grid_auto_flow": null,
            "grid_auto_rows": null,
            "grid_column": null,
            "grid_gap": null,
            "grid_row": null,
            "grid_template_areas": null,
            "grid_template_columns": null,
            "grid_template_rows": null,
            "height": null,
            "justify_content": null,
            "justify_items": null,
            "left": null,
            "margin": null,
            "max_height": null,
            "max_width": null,
            "min_height": null,
            "min_width": null,
            "object_fit": null,
            "object_position": null,
            "order": null,
            "overflow": null,
            "overflow_x": null,
            "overflow_y": null,
            "padding": null,
            "right": null,
            "top": null,
            "visibility": null,
            "width": null
          }
        },
        "379ab014d19247cb9fa35e250c4f4ddb": {
          "model_module": "@jupyter-widgets/base",
          "model_name": "LayoutModel",
          "model_module_version": "1.2.0",
          "state": {
            "_model_module": "@jupyter-widgets/base",
            "_model_module_version": "1.2.0",
            "_model_name": "LayoutModel",
            "_view_count": null,
            "_view_module": "@jupyter-widgets/base",
            "_view_module_version": "1.2.0",
            "_view_name": "LayoutView",
            "align_content": null,
            "align_items": null,
            "align_self": null,
            "border": null,
            "bottom": null,
            "display": null,
            "flex": null,
            "flex_flow": null,
            "grid_area": null,
            "grid_auto_columns": null,
            "grid_auto_flow": null,
            "grid_auto_rows": null,
            "grid_column": null,
            "grid_gap": null,
            "grid_row": null,
            "grid_template_areas": null,
            "grid_template_columns": null,
            "grid_template_rows": null,
            "height": null,
            "justify_content": null,
            "justify_items": null,
            "left": null,
            "margin": null,
            "max_height": null,
            "max_width": null,
            "min_height": null,
            "min_width": null,
            "object_fit": null,
            "object_position": null,
            "order": null,
            "overflow": null,
            "overflow_x": null,
            "overflow_y": null,
            "padding": null,
            "right": null,
            "top": null,
            "visibility": null,
            "width": null
          }
        },
        "4b06769b708946c3aee3a2872e7c56b8": {
          "model_module": "@jupyter-widgets/controls",
          "model_name": "DescriptionStyleModel",
          "model_module_version": "1.5.0",
          "state": {
            "_model_module": "@jupyter-widgets/controls",
            "_model_module_version": "1.5.0",
            "_model_name": "DescriptionStyleModel",
            "_view_count": null,
            "_view_module": "@jupyter-widgets/base",
            "_view_module_version": "1.2.0",
            "_view_name": "StyleView",
            "description_width": ""
          }
        },
        "f5b073ea60764fb4ad8606b1474be32c": {
          "model_module": "@jupyter-widgets/base",
          "model_name": "LayoutModel",
          "model_module_version": "1.2.0",
          "state": {
            "_model_module": "@jupyter-widgets/base",
            "_model_module_version": "1.2.0",
            "_model_name": "LayoutModel",
            "_view_count": null,
            "_view_module": "@jupyter-widgets/base",
            "_view_module_version": "1.2.0",
            "_view_name": "LayoutView",
            "align_content": null,
            "align_items": null,
            "align_self": null,
            "border": null,
            "bottom": null,
            "display": null,
            "flex": null,
            "flex_flow": null,
            "grid_area": null,
            "grid_auto_columns": null,
            "grid_auto_flow": null,
            "grid_auto_rows": null,
            "grid_column": null,
            "grid_gap": null,
            "grid_row": null,
            "grid_template_areas": null,
            "grid_template_columns": null,
            "grid_template_rows": null,
            "height": null,
            "justify_content": null,
            "justify_items": null,
            "left": null,
            "margin": null,
            "max_height": null,
            "max_width": null,
            "min_height": null,
            "min_width": null,
            "object_fit": null,
            "object_position": null,
            "order": null,
            "overflow": null,
            "overflow_x": null,
            "overflow_y": null,
            "padding": null,
            "right": null,
            "top": null,
            "visibility": null,
            "width": null
          }
        },
        "72e45ee80b9c4883bbecf190dbc21249": {
          "model_module": "@jupyter-widgets/controls",
          "model_name": "ProgressStyleModel",
          "model_module_version": "1.5.0",
          "state": {
            "_model_module": "@jupyter-widgets/controls",
            "_model_module_version": "1.5.0",
            "_model_name": "ProgressStyleModel",
            "_view_count": null,
            "_view_module": "@jupyter-widgets/base",
            "_view_module_version": "1.2.0",
            "_view_name": "StyleView",
            "bar_color": null,
            "description_width": ""
          }
        },
        "3486b4c8cf514d1fb2dff98be8f1cd42": {
          "model_module": "@jupyter-widgets/base",
          "model_name": "LayoutModel",
          "model_module_version": "1.2.0",
          "state": {
            "_model_module": "@jupyter-widgets/base",
            "_model_module_version": "1.2.0",
            "_model_name": "LayoutModel",
            "_view_count": null,
            "_view_module": "@jupyter-widgets/base",
            "_view_module_version": "1.2.0",
            "_view_name": "LayoutView",
            "align_content": null,
            "align_items": null,
            "align_self": null,
            "border": null,
            "bottom": null,
            "display": null,
            "flex": null,
            "flex_flow": null,
            "grid_area": null,
            "grid_auto_columns": null,
            "grid_auto_flow": null,
            "grid_auto_rows": null,
            "grid_column": null,
            "grid_gap": null,
            "grid_row": null,
            "grid_template_areas": null,
            "grid_template_columns": null,
            "grid_template_rows": null,
            "height": null,
            "justify_content": null,
            "justify_items": null,
            "left": null,
            "margin": null,
            "max_height": null,
            "max_width": null,
            "min_height": null,
            "min_width": null,
            "object_fit": null,
            "object_position": null,
            "order": null,
            "overflow": null,
            "overflow_x": null,
            "overflow_y": null,
            "padding": null,
            "right": null,
            "top": null,
            "visibility": null,
            "width": null
          }
        },
        "089b8b4d4c4e40e9895f0ed402a3d374": {
          "model_module": "@jupyter-widgets/controls",
          "model_name": "DescriptionStyleModel",
          "model_module_version": "1.5.0",
          "state": {
            "_model_module": "@jupyter-widgets/controls",
            "_model_module_version": "1.5.0",
            "_model_name": "DescriptionStyleModel",
            "_view_count": null,
            "_view_module": "@jupyter-widgets/base",
            "_view_module_version": "1.2.0",
            "_view_name": "StyleView",
            "description_width": ""
          }
        },
        "908fc184f7e94addaf6e922a6ec6beed": {
          "model_module": "@jupyter-widgets/controls",
          "model_name": "HBoxModel",
          "model_module_version": "1.5.0",
          "state": {
            "_dom_classes": [],
            "_model_module": "@jupyter-widgets/controls",
            "_model_module_version": "1.5.0",
            "_model_name": "HBoxModel",
            "_view_count": null,
            "_view_module": "@jupyter-widgets/controls",
            "_view_module_version": "1.5.0",
            "_view_name": "HBoxView",
            "box_style": "",
            "children": [
              "IPY_MODEL_09a2a5230f084f91a1b4f79e42f70125",
              "IPY_MODEL_90efce51588e4b6b8cad2438807bc60c",
              "IPY_MODEL_56864787984640a6b2c3cab44da0dad7"
            ],
            "layout": "IPY_MODEL_4c872cb474724a269b440663a7bfdeae"
          }
        },
        "09a2a5230f084f91a1b4f79e42f70125": {
          "model_module": "@jupyter-widgets/controls",
          "model_name": "HTMLModel",
          "model_module_version": "1.5.0",
          "state": {
            "_dom_classes": [],
            "_model_module": "@jupyter-widgets/controls",
            "_model_module_version": "1.5.0",
            "_model_name": "HTMLModel",
            "_view_count": null,
            "_view_module": "@jupyter-widgets/controls",
            "_view_module_version": "1.5.0",
            "_view_name": "HTMLView",
            "description": "",
            "description_tooltip": null,
            "layout": "IPY_MODEL_764706bd436848a8bd870dd101bd2461",
            "placeholder": "​",
            "style": "IPY_MODEL_f32e373d086e4359b928c80249f09965",
            "value": "100%"
          }
        },
        "90efce51588e4b6b8cad2438807bc60c": {
          "model_module": "@jupyter-widgets/controls",
          "model_name": "FloatProgressModel",
          "model_module_version": "1.5.0",
          "state": {
            "_dom_classes": [],
            "_model_module": "@jupyter-widgets/controls",
            "_model_module_version": "1.5.0",
            "_model_name": "FloatProgressModel",
            "_view_count": null,
            "_view_module": "@jupyter-widgets/controls",
            "_view_module_version": "1.5.0",
            "_view_name": "ProgressView",
            "bar_style": "success",
            "description": "",
            "description_tooltip": null,
            "layout": "IPY_MODEL_699f22462823466489d95f57ebfe428d",
            "max": 28881,
            "min": 0,
            "orientation": "horizontal",
            "style": "IPY_MODEL_853ddeb6d2d6443290ea99e6c4cc5da3",
            "value": 28881
          }
        },
        "56864787984640a6b2c3cab44da0dad7": {
          "model_module": "@jupyter-widgets/controls",
          "model_name": "HTMLModel",
          "model_module_version": "1.5.0",
          "state": {
            "_dom_classes": [],
            "_model_module": "@jupyter-widgets/controls",
            "_model_module_version": "1.5.0",
            "_model_name": "HTMLModel",
            "_view_count": null,
            "_view_module": "@jupyter-widgets/controls",
            "_view_module_version": "1.5.0",
            "_view_name": "HTMLView",
            "description": "",
            "description_tooltip": null,
            "layout": "IPY_MODEL_059263121fca4ded97b30d51d4c7f354",
            "placeholder": "​",
            "style": "IPY_MODEL_ea7d1521ddd24511bfd7a527c52ef4bf",
            "value": " 28881/28881 [00:00&lt;00:00, 674628.92it/s]"
          }
        },
        "4c872cb474724a269b440663a7bfdeae": {
          "model_module": "@jupyter-widgets/base",
          "model_name": "LayoutModel",
          "model_module_version": "1.2.0",
          "state": {
            "_model_module": "@jupyter-widgets/base",
            "_model_module_version": "1.2.0",
            "_model_name": "LayoutModel",
            "_view_count": null,
            "_view_module": "@jupyter-widgets/base",
            "_view_module_version": "1.2.0",
            "_view_name": "LayoutView",
            "align_content": null,
            "align_items": null,
            "align_self": null,
            "border": null,
            "bottom": null,
            "display": null,
            "flex": null,
            "flex_flow": null,
            "grid_area": null,
            "grid_auto_columns": null,
            "grid_auto_flow": null,
            "grid_auto_rows": null,
            "grid_column": null,
            "grid_gap": null,
            "grid_row": null,
            "grid_template_areas": null,
            "grid_template_columns": null,
            "grid_template_rows": null,
            "height": null,
            "justify_content": null,
            "justify_items": null,
            "left": null,
            "margin": null,
            "max_height": null,
            "max_width": null,
            "min_height": null,
            "min_width": null,
            "object_fit": null,
            "object_position": null,
            "order": null,
            "overflow": null,
            "overflow_x": null,
            "overflow_y": null,
            "padding": null,
            "right": null,
            "top": null,
            "visibility": null,
            "width": null
          }
        },
        "764706bd436848a8bd870dd101bd2461": {
          "model_module": "@jupyter-widgets/base",
          "model_name": "LayoutModel",
          "model_module_version": "1.2.0",
          "state": {
            "_model_module": "@jupyter-widgets/base",
            "_model_module_version": "1.2.0",
            "_model_name": "LayoutModel",
            "_view_count": null,
            "_view_module": "@jupyter-widgets/base",
            "_view_module_version": "1.2.0",
            "_view_name": "LayoutView",
            "align_content": null,
            "align_items": null,
            "align_self": null,
            "border": null,
            "bottom": null,
            "display": null,
            "flex": null,
            "flex_flow": null,
            "grid_area": null,
            "grid_auto_columns": null,
            "grid_auto_flow": null,
            "grid_auto_rows": null,
            "grid_column": null,
            "grid_gap": null,
            "grid_row": null,
            "grid_template_areas": null,
            "grid_template_columns": null,
            "grid_template_rows": null,
            "height": null,
            "justify_content": null,
            "justify_items": null,
            "left": null,
            "margin": null,
            "max_height": null,
            "max_width": null,
            "min_height": null,
            "min_width": null,
            "object_fit": null,
            "object_position": null,
            "order": null,
            "overflow": null,
            "overflow_x": null,
            "overflow_y": null,
            "padding": null,
            "right": null,
            "top": null,
            "visibility": null,
            "width": null
          }
        },
        "f32e373d086e4359b928c80249f09965": {
          "model_module": "@jupyter-widgets/controls",
          "model_name": "DescriptionStyleModel",
          "model_module_version": "1.5.0",
          "state": {
            "_model_module": "@jupyter-widgets/controls",
            "_model_module_version": "1.5.0",
            "_model_name": "DescriptionStyleModel",
            "_view_count": null,
            "_view_module": "@jupyter-widgets/base",
            "_view_module_version": "1.2.0",
            "_view_name": "StyleView",
            "description_width": ""
          }
        },
        "699f22462823466489d95f57ebfe428d": {
          "model_module": "@jupyter-widgets/base",
          "model_name": "LayoutModel",
          "model_module_version": "1.2.0",
          "state": {
            "_model_module": "@jupyter-widgets/base",
            "_model_module_version": "1.2.0",
            "_model_name": "LayoutModel",
            "_view_count": null,
            "_view_module": "@jupyter-widgets/base",
            "_view_module_version": "1.2.0",
            "_view_name": "LayoutView",
            "align_content": null,
            "align_items": null,
            "align_self": null,
            "border": null,
            "bottom": null,
            "display": null,
            "flex": null,
            "flex_flow": null,
            "grid_area": null,
            "grid_auto_columns": null,
            "grid_auto_flow": null,
            "grid_auto_rows": null,
            "grid_column": null,
            "grid_gap": null,
            "grid_row": null,
            "grid_template_areas": null,
            "grid_template_columns": null,
            "grid_template_rows": null,
            "height": null,
            "justify_content": null,
            "justify_items": null,
            "left": null,
            "margin": null,
            "max_height": null,
            "max_width": null,
            "min_height": null,
            "min_width": null,
            "object_fit": null,
            "object_position": null,
            "order": null,
            "overflow": null,
            "overflow_x": null,
            "overflow_y": null,
            "padding": null,
            "right": null,
            "top": null,
            "visibility": null,
            "width": null
          }
        },
        "853ddeb6d2d6443290ea99e6c4cc5da3": {
          "model_module": "@jupyter-widgets/controls",
          "model_name": "ProgressStyleModel",
          "model_module_version": "1.5.0",
          "state": {
            "_model_module": "@jupyter-widgets/controls",
            "_model_module_version": "1.5.0",
            "_model_name": "ProgressStyleModel",
            "_view_count": null,
            "_view_module": "@jupyter-widgets/base",
            "_view_module_version": "1.2.0",
            "_view_name": "StyleView",
            "bar_color": null,
            "description_width": ""
          }
        },
        "059263121fca4ded97b30d51d4c7f354": {
          "model_module": "@jupyter-widgets/base",
          "model_name": "LayoutModel",
          "model_module_version": "1.2.0",
          "state": {
            "_model_module": "@jupyter-widgets/base",
            "_model_module_version": "1.2.0",
            "_model_name": "LayoutModel",
            "_view_count": null,
            "_view_module": "@jupyter-widgets/base",
            "_view_module_version": "1.2.0",
            "_view_name": "LayoutView",
            "align_content": null,
            "align_items": null,
            "align_self": null,
            "border": null,
            "bottom": null,
            "display": null,
            "flex": null,
            "flex_flow": null,
            "grid_area": null,
            "grid_auto_columns": null,
            "grid_auto_flow": null,
            "grid_auto_rows": null,
            "grid_column": null,
            "grid_gap": null,
            "grid_row": null,
            "grid_template_areas": null,
            "grid_template_columns": null,
            "grid_template_rows": null,
            "height": null,
            "justify_content": null,
            "justify_items": null,
            "left": null,
            "margin": null,
            "max_height": null,
            "max_width": null,
            "min_height": null,
            "min_width": null,
            "object_fit": null,
            "object_position": null,
            "order": null,
            "overflow": null,
            "overflow_x": null,
            "overflow_y": null,
            "padding": null,
            "right": null,
            "top": null,
            "visibility": null,
            "width": null
          }
        },
        "ea7d1521ddd24511bfd7a527c52ef4bf": {
          "model_module": "@jupyter-widgets/controls",
          "model_name": "DescriptionStyleModel",
          "model_module_version": "1.5.0",
          "state": {
            "_model_module": "@jupyter-widgets/controls",
            "_model_module_version": "1.5.0",
            "_model_name": "DescriptionStyleModel",
            "_view_count": null,
            "_view_module": "@jupyter-widgets/base",
            "_view_module_version": "1.2.0",
            "_view_name": "StyleView",
            "description_width": ""
          }
        },
        "b4ed3eba726d4881901cfbf77610cb24": {
          "model_module": "@jupyter-widgets/controls",
          "model_name": "HBoxModel",
          "model_module_version": "1.5.0",
          "state": {
            "_dom_classes": [],
            "_model_module": "@jupyter-widgets/controls",
            "_model_module_version": "1.5.0",
            "_model_name": "HBoxModel",
            "_view_count": null,
            "_view_module": "@jupyter-widgets/controls",
            "_view_module_version": "1.5.0",
            "_view_name": "HBoxView",
            "box_style": "",
            "children": [
              "IPY_MODEL_176f9154f20c4f708dbd4aee171cb210",
              "IPY_MODEL_4fec24d4cfb24da780e97a4881b966f8",
              "IPY_MODEL_8dfbb42ee813406eb75590e1d14476e0"
            ],
            "layout": "IPY_MODEL_08f631b758364165a604f573490b46e9"
          }
        },
        "176f9154f20c4f708dbd4aee171cb210": {
          "model_module": "@jupyter-widgets/controls",
          "model_name": "HTMLModel",
          "model_module_version": "1.5.0",
          "state": {
            "_dom_classes": [],
            "_model_module": "@jupyter-widgets/controls",
            "_model_module_version": "1.5.0",
            "_model_name": "HTMLModel",
            "_view_count": null,
            "_view_module": "@jupyter-widgets/controls",
            "_view_module_version": "1.5.0",
            "_view_name": "HTMLView",
            "description": "",
            "description_tooltip": null,
            "layout": "IPY_MODEL_0f41f6c07bed4ef58e94f091bc189207",
            "placeholder": "​",
            "style": "IPY_MODEL_5dc498ca8259476c8e6996b11aabb65a",
            "value": "100%"
          }
        },
        "4fec24d4cfb24da780e97a4881b966f8": {
          "model_module": "@jupyter-widgets/controls",
          "model_name": "FloatProgressModel",
          "model_module_version": "1.5.0",
          "state": {
            "_dom_classes": [],
            "_model_module": "@jupyter-widgets/controls",
            "_model_module_version": "1.5.0",
            "_model_name": "FloatProgressModel",
            "_view_count": null,
            "_view_module": "@jupyter-widgets/controls",
            "_view_module_version": "1.5.0",
            "_view_name": "ProgressView",
            "bar_style": "success",
            "description": "",
            "description_tooltip": null,
            "layout": "IPY_MODEL_8bb806d78b91450996f190bda877d80a",
            "max": 1648877,
            "min": 0,
            "orientation": "horizontal",
            "style": "IPY_MODEL_1ba49d9edb8f492f8474e5ce2df98f17",
            "value": 1648877
          }
        },
        "8dfbb42ee813406eb75590e1d14476e0": {
          "model_module": "@jupyter-widgets/controls",
          "model_name": "HTMLModel",
          "model_module_version": "1.5.0",
          "state": {
            "_dom_classes": [],
            "_model_module": "@jupyter-widgets/controls",
            "_model_module_version": "1.5.0",
            "_model_name": "HTMLModel",
            "_view_count": null,
            "_view_module": "@jupyter-widgets/controls",
            "_view_module_version": "1.5.0",
            "_view_name": "HTMLView",
            "description": "",
            "description_tooltip": null,
            "layout": "IPY_MODEL_2c65da01a0044047b07e4f8cb316ffff",
            "placeholder": "​",
            "style": "IPY_MODEL_7f5a85af75404eac99867d879a44b2a7",
            "value": " 1648877/1648877 [00:00&lt;00:00, 19144866.01it/s]"
          }
        },
        "08f631b758364165a604f573490b46e9": {
          "model_module": "@jupyter-widgets/base",
          "model_name": "LayoutModel",
          "model_module_version": "1.2.0",
          "state": {
            "_model_module": "@jupyter-widgets/base",
            "_model_module_version": "1.2.0",
            "_model_name": "LayoutModel",
            "_view_count": null,
            "_view_module": "@jupyter-widgets/base",
            "_view_module_version": "1.2.0",
            "_view_name": "LayoutView",
            "align_content": null,
            "align_items": null,
            "align_self": null,
            "border": null,
            "bottom": null,
            "display": null,
            "flex": null,
            "flex_flow": null,
            "grid_area": null,
            "grid_auto_columns": null,
            "grid_auto_flow": null,
            "grid_auto_rows": null,
            "grid_column": null,
            "grid_gap": null,
            "grid_row": null,
            "grid_template_areas": null,
            "grid_template_columns": null,
            "grid_template_rows": null,
            "height": null,
            "justify_content": null,
            "justify_items": null,
            "left": null,
            "margin": null,
            "max_height": null,
            "max_width": null,
            "min_height": null,
            "min_width": null,
            "object_fit": null,
            "object_position": null,
            "order": null,
            "overflow": null,
            "overflow_x": null,
            "overflow_y": null,
            "padding": null,
            "right": null,
            "top": null,
            "visibility": null,
            "width": null
          }
        },
        "0f41f6c07bed4ef58e94f091bc189207": {
          "model_module": "@jupyter-widgets/base",
          "model_name": "LayoutModel",
          "model_module_version": "1.2.0",
          "state": {
            "_model_module": "@jupyter-widgets/base",
            "_model_module_version": "1.2.0",
            "_model_name": "LayoutModel",
            "_view_count": null,
            "_view_module": "@jupyter-widgets/base",
            "_view_module_version": "1.2.0",
            "_view_name": "LayoutView",
            "align_content": null,
            "align_items": null,
            "align_self": null,
            "border": null,
            "bottom": null,
            "display": null,
            "flex": null,
            "flex_flow": null,
            "grid_area": null,
            "grid_auto_columns": null,
            "grid_auto_flow": null,
            "grid_auto_rows": null,
            "grid_column": null,
            "grid_gap": null,
            "grid_row": null,
            "grid_template_areas": null,
            "grid_template_columns": null,
            "grid_template_rows": null,
            "height": null,
            "justify_content": null,
            "justify_items": null,
            "left": null,
            "margin": null,
            "max_height": null,
            "max_width": null,
            "min_height": null,
            "min_width": null,
            "object_fit": null,
            "object_position": null,
            "order": null,
            "overflow": null,
            "overflow_x": null,
            "overflow_y": null,
            "padding": null,
            "right": null,
            "top": null,
            "visibility": null,
            "width": null
          }
        },
        "5dc498ca8259476c8e6996b11aabb65a": {
          "model_module": "@jupyter-widgets/controls",
          "model_name": "DescriptionStyleModel",
          "model_module_version": "1.5.0",
          "state": {
            "_model_module": "@jupyter-widgets/controls",
            "_model_module_version": "1.5.0",
            "_model_name": "DescriptionStyleModel",
            "_view_count": null,
            "_view_module": "@jupyter-widgets/base",
            "_view_module_version": "1.2.0",
            "_view_name": "StyleView",
            "description_width": ""
          }
        },
        "8bb806d78b91450996f190bda877d80a": {
          "model_module": "@jupyter-widgets/base",
          "model_name": "LayoutModel",
          "model_module_version": "1.2.0",
          "state": {
            "_model_module": "@jupyter-widgets/base",
            "_model_module_version": "1.2.0",
            "_model_name": "LayoutModel",
            "_view_count": null,
            "_view_module": "@jupyter-widgets/base",
            "_view_module_version": "1.2.0",
            "_view_name": "LayoutView",
            "align_content": null,
            "align_items": null,
            "align_self": null,
            "border": null,
            "bottom": null,
            "display": null,
            "flex": null,
            "flex_flow": null,
            "grid_area": null,
            "grid_auto_columns": null,
            "grid_auto_flow": null,
            "grid_auto_rows": null,
            "grid_column": null,
            "grid_gap": null,
            "grid_row": null,
            "grid_template_areas": null,
            "grid_template_columns": null,
            "grid_template_rows": null,
            "height": null,
            "justify_content": null,
            "justify_items": null,
            "left": null,
            "margin": null,
            "max_height": null,
            "max_width": null,
            "min_height": null,
            "min_width": null,
            "object_fit": null,
            "object_position": null,
            "order": null,
            "overflow": null,
            "overflow_x": null,
            "overflow_y": null,
            "padding": null,
            "right": null,
            "top": null,
            "visibility": null,
            "width": null
          }
        },
        "1ba49d9edb8f492f8474e5ce2df98f17": {
          "model_module": "@jupyter-widgets/controls",
          "model_name": "ProgressStyleModel",
          "model_module_version": "1.5.0",
          "state": {
            "_model_module": "@jupyter-widgets/controls",
            "_model_module_version": "1.5.0",
            "_model_name": "ProgressStyleModel",
            "_view_count": null,
            "_view_module": "@jupyter-widgets/base",
            "_view_module_version": "1.2.0",
            "_view_name": "StyleView",
            "bar_color": null,
            "description_width": ""
          }
        },
        "2c65da01a0044047b07e4f8cb316ffff": {
          "model_module": "@jupyter-widgets/base",
          "model_name": "LayoutModel",
          "model_module_version": "1.2.0",
          "state": {
            "_model_module": "@jupyter-widgets/base",
            "_model_module_version": "1.2.0",
            "_model_name": "LayoutModel",
            "_view_count": null,
            "_view_module": "@jupyter-widgets/base",
            "_view_module_version": "1.2.0",
            "_view_name": "LayoutView",
            "align_content": null,
            "align_items": null,
            "align_self": null,
            "border": null,
            "bottom": null,
            "display": null,
            "flex": null,
            "flex_flow": null,
            "grid_area": null,
            "grid_auto_columns": null,
            "grid_auto_flow": null,
            "grid_auto_rows": null,
            "grid_column": null,
            "grid_gap": null,
            "grid_row": null,
            "grid_template_areas": null,
            "grid_template_columns": null,
            "grid_template_rows": null,
            "height": null,
            "justify_content": null,
            "justify_items": null,
            "left": null,
            "margin": null,
            "max_height": null,
            "max_width": null,
            "min_height": null,
            "min_width": null,
            "object_fit": null,
            "object_position": null,
            "order": null,
            "overflow": null,
            "overflow_x": null,
            "overflow_y": null,
            "padding": null,
            "right": null,
            "top": null,
            "visibility": null,
            "width": null
          }
        },
        "7f5a85af75404eac99867d879a44b2a7": {
          "model_module": "@jupyter-widgets/controls",
          "model_name": "DescriptionStyleModel",
          "model_module_version": "1.5.0",
          "state": {
            "_model_module": "@jupyter-widgets/controls",
            "_model_module_version": "1.5.0",
            "_model_name": "DescriptionStyleModel",
            "_view_count": null,
            "_view_module": "@jupyter-widgets/base",
            "_view_module_version": "1.2.0",
            "_view_name": "StyleView",
            "description_width": ""
          }
        },
        "b8d8086fd3e7418fa971ca4950c3464e": {
          "model_module": "@jupyter-widgets/controls",
          "model_name": "HBoxModel",
          "model_module_version": "1.5.0",
          "state": {
            "_dom_classes": [],
            "_model_module": "@jupyter-widgets/controls",
            "_model_module_version": "1.5.0",
            "_model_name": "HBoxModel",
            "_view_count": null,
            "_view_module": "@jupyter-widgets/controls",
            "_view_module_version": "1.5.0",
            "_view_name": "HBoxView",
            "box_style": "",
            "children": [
              "IPY_MODEL_0a7871b6d09242a394de0d9fd159043a",
              "IPY_MODEL_62d4a2f1063646268c3b3747622890ef",
              "IPY_MODEL_7dc1b3c819c94563acf609ef0645976f"
            ],
            "layout": "IPY_MODEL_edd7abfb97074940baa85f0a638db41c"
          }
        },
        "0a7871b6d09242a394de0d9fd159043a": {
          "model_module": "@jupyter-widgets/controls",
          "model_name": "HTMLModel",
          "model_module_version": "1.5.0",
          "state": {
            "_dom_classes": [],
            "_model_module": "@jupyter-widgets/controls",
            "_model_module_version": "1.5.0",
            "_model_name": "HTMLModel",
            "_view_count": null,
            "_view_module": "@jupyter-widgets/controls",
            "_view_module_version": "1.5.0",
            "_view_name": "HTMLView",
            "description": "",
            "description_tooltip": null,
            "layout": "IPY_MODEL_ae8bb3eb6a514fa78e79aec4bd45bd69",
            "placeholder": "​",
            "style": "IPY_MODEL_d549b258ec9442cd8c4fb3aa3e2ec529",
            "value": "100%"
          }
        },
        "62d4a2f1063646268c3b3747622890ef": {
          "model_module": "@jupyter-widgets/controls",
          "model_name": "FloatProgressModel",
          "model_module_version": "1.5.0",
          "state": {
            "_dom_classes": [],
            "_model_module": "@jupyter-widgets/controls",
            "_model_module_version": "1.5.0",
            "_model_name": "FloatProgressModel",
            "_view_count": null,
            "_view_module": "@jupyter-widgets/controls",
            "_view_module_version": "1.5.0",
            "_view_name": "ProgressView",
            "bar_style": "success",
            "description": "",
            "description_tooltip": null,
            "layout": "IPY_MODEL_928c29c9afca4b6e9e717ea160c811c9",
            "max": 4542,
            "min": 0,
            "orientation": "horizontal",
            "style": "IPY_MODEL_46c073829e9e43578e92fb43d084be18",
            "value": 4542
          }
        },
        "7dc1b3c819c94563acf609ef0645976f": {
          "model_module": "@jupyter-widgets/controls",
          "model_name": "HTMLModel",
          "model_module_version": "1.5.0",
          "state": {
            "_dom_classes": [],
            "_model_module": "@jupyter-widgets/controls",
            "_model_module_version": "1.5.0",
            "_model_name": "HTMLModel",
            "_view_count": null,
            "_view_module": "@jupyter-widgets/controls",
            "_view_module_version": "1.5.0",
            "_view_name": "HTMLView",
            "description": "",
            "description_tooltip": null,
            "layout": "IPY_MODEL_9dcc9834286442f19243baaab6750424",
            "placeholder": "​",
            "style": "IPY_MODEL_43e40ec55bec4750afa51c46acca06b4",
            "value": " 4542/4542 [00:00&lt;00:00, 133315.57it/s]"
          }
        },
        "edd7abfb97074940baa85f0a638db41c": {
          "model_module": "@jupyter-widgets/base",
          "model_name": "LayoutModel",
          "model_module_version": "1.2.0",
          "state": {
            "_model_module": "@jupyter-widgets/base",
            "_model_module_version": "1.2.0",
            "_model_name": "LayoutModel",
            "_view_count": null,
            "_view_module": "@jupyter-widgets/base",
            "_view_module_version": "1.2.0",
            "_view_name": "LayoutView",
            "align_content": null,
            "align_items": null,
            "align_self": null,
            "border": null,
            "bottom": null,
            "display": null,
            "flex": null,
            "flex_flow": null,
            "grid_area": null,
            "grid_auto_columns": null,
            "grid_auto_flow": null,
            "grid_auto_rows": null,
            "grid_column": null,
            "grid_gap": null,
            "grid_row": null,
            "grid_template_areas": null,
            "grid_template_columns": null,
            "grid_template_rows": null,
            "height": null,
            "justify_content": null,
            "justify_items": null,
            "left": null,
            "margin": null,
            "max_height": null,
            "max_width": null,
            "min_height": null,
            "min_width": null,
            "object_fit": null,
            "object_position": null,
            "order": null,
            "overflow": null,
            "overflow_x": null,
            "overflow_y": null,
            "padding": null,
            "right": null,
            "top": null,
            "visibility": null,
            "width": null
          }
        },
        "ae8bb3eb6a514fa78e79aec4bd45bd69": {
          "model_module": "@jupyter-widgets/base",
          "model_name": "LayoutModel",
          "model_module_version": "1.2.0",
          "state": {
            "_model_module": "@jupyter-widgets/base",
            "_model_module_version": "1.2.0",
            "_model_name": "LayoutModel",
            "_view_count": null,
            "_view_module": "@jupyter-widgets/base",
            "_view_module_version": "1.2.0",
            "_view_name": "LayoutView",
            "align_content": null,
            "align_items": null,
            "align_self": null,
            "border": null,
            "bottom": null,
            "display": null,
            "flex": null,
            "flex_flow": null,
            "grid_area": null,
            "grid_auto_columns": null,
            "grid_auto_flow": null,
            "grid_auto_rows": null,
            "grid_column": null,
            "grid_gap": null,
            "grid_row": null,
            "grid_template_areas": null,
            "grid_template_columns": null,
            "grid_template_rows": null,
            "height": null,
            "justify_content": null,
            "justify_items": null,
            "left": null,
            "margin": null,
            "max_height": null,
            "max_width": null,
            "min_height": null,
            "min_width": null,
            "object_fit": null,
            "object_position": null,
            "order": null,
            "overflow": null,
            "overflow_x": null,
            "overflow_y": null,
            "padding": null,
            "right": null,
            "top": null,
            "visibility": null,
            "width": null
          }
        },
        "d549b258ec9442cd8c4fb3aa3e2ec529": {
          "model_module": "@jupyter-widgets/controls",
          "model_name": "DescriptionStyleModel",
          "model_module_version": "1.5.0",
          "state": {
            "_model_module": "@jupyter-widgets/controls",
            "_model_module_version": "1.5.0",
            "_model_name": "DescriptionStyleModel",
            "_view_count": null,
            "_view_module": "@jupyter-widgets/base",
            "_view_module_version": "1.2.0",
            "_view_name": "StyleView",
            "description_width": ""
          }
        },
        "928c29c9afca4b6e9e717ea160c811c9": {
          "model_module": "@jupyter-widgets/base",
          "model_name": "LayoutModel",
          "model_module_version": "1.2.0",
          "state": {
            "_model_module": "@jupyter-widgets/base",
            "_model_module_version": "1.2.0",
            "_model_name": "LayoutModel",
            "_view_count": null,
            "_view_module": "@jupyter-widgets/base",
            "_view_module_version": "1.2.0",
            "_view_name": "LayoutView",
            "align_content": null,
            "align_items": null,
            "align_self": null,
            "border": null,
            "bottom": null,
            "display": null,
            "flex": null,
            "flex_flow": null,
            "grid_area": null,
            "grid_auto_columns": null,
            "grid_auto_flow": null,
            "grid_auto_rows": null,
            "grid_column": null,
            "grid_gap": null,
            "grid_row": null,
            "grid_template_areas": null,
            "grid_template_columns": null,
            "grid_template_rows": null,
            "height": null,
            "justify_content": null,
            "justify_items": null,
            "left": null,
            "margin": null,
            "max_height": null,
            "max_width": null,
            "min_height": null,
            "min_width": null,
            "object_fit": null,
            "object_position": null,
            "order": null,
            "overflow": null,
            "overflow_x": null,
            "overflow_y": null,
            "padding": null,
            "right": null,
            "top": null,
            "visibility": null,
            "width": null
          }
        },
        "46c073829e9e43578e92fb43d084be18": {
          "model_module": "@jupyter-widgets/controls",
          "model_name": "ProgressStyleModel",
          "model_module_version": "1.5.0",
          "state": {
            "_model_module": "@jupyter-widgets/controls",
            "_model_module_version": "1.5.0",
            "_model_name": "ProgressStyleModel",
            "_view_count": null,
            "_view_module": "@jupyter-widgets/base",
            "_view_module_version": "1.2.0",
            "_view_name": "StyleView",
            "bar_color": null,
            "description_width": ""
          }
        },
        "9dcc9834286442f19243baaab6750424": {
          "model_module": "@jupyter-widgets/base",
          "model_name": "LayoutModel",
          "model_module_version": "1.2.0",
          "state": {
            "_model_module": "@jupyter-widgets/base",
            "_model_module_version": "1.2.0",
            "_model_name": "LayoutModel",
            "_view_count": null,
            "_view_module": "@jupyter-widgets/base",
            "_view_module_version": "1.2.0",
            "_view_name": "LayoutView",
            "align_content": null,
            "align_items": null,
            "align_self": null,
            "border": null,
            "bottom": null,
            "display": null,
            "flex": null,
            "flex_flow": null,
            "grid_area": null,
            "grid_auto_columns": null,
            "grid_auto_flow": null,
            "grid_auto_rows": null,
            "grid_column": null,
            "grid_gap": null,
            "grid_row": null,
            "grid_template_areas": null,
            "grid_template_columns": null,
            "grid_template_rows": null,
            "height": null,
            "justify_content": null,
            "justify_items": null,
            "left": null,
            "margin": null,
            "max_height": null,
            "max_width": null,
            "min_height": null,
            "min_width": null,
            "object_fit": null,
            "object_position": null,
            "order": null,
            "overflow": null,
            "overflow_x": null,
            "overflow_y": null,
            "padding": null,
            "right": null,
            "top": null,
            "visibility": null,
            "width": null
          }
        },
        "43e40ec55bec4750afa51c46acca06b4": {
          "model_module": "@jupyter-widgets/controls",
          "model_name": "DescriptionStyleModel",
          "model_module_version": "1.5.0",
          "state": {
            "_model_module": "@jupyter-widgets/controls",
            "_model_module_version": "1.5.0",
            "_model_name": "DescriptionStyleModel",
            "_view_count": null,
            "_view_module": "@jupyter-widgets/base",
            "_view_module_version": "1.2.0",
            "_view_name": "StyleView",
            "description_width": ""
          }
        }
      }
    }
  },
  "cells": [
    {
      "cell_type": "code",
      "execution_count": 10,
      "metadata": {
        "id": "Dk-BjISLnl3d"
      },
      "outputs": [],
      "source": [
        "import sys\n",
        "import numpy as np\n",
        "import matplotlib.pyplot as plt\n",
        "import cv2\n",
        "plt.style.use(\"fivethirtyeight\")"
      ]
    },
    {
      "cell_type": "code",
      "source": [
        "########\n",
        "# Part 1\n",
        "########"
      ],
      "metadata": {
        "id": "oizacY_9pK_1"
      },
      "execution_count": null,
      "outputs": []
    },
    {
      "cell_type": "code",
      "source": [
        "#1\n",
        "\n",
        "X = np.random.rand(10,3)\n",
        "Y = np.random.rand(3)\n",
        "\n",
        "# Ans -> (c) This will fail. Because of the incompatibility."
      ],
      "metadata": {
        "id": "bS8xAtCsnuU1"
      },
      "execution_count": null,
      "outputs": []
    },
    {
      "cell_type": "code",
      "source": [
        "#2(a)\n",
        "x, y = np.mgrid[:10, :5]\n",
        "z = x + y\n",
        "\n",
        "'''\n",
        "Ans ->\n",
        "\n",
        "x = (10,1)\n",
        "y = (1,5)\n",
        "z = (10,5)\n",
        "'''"
      ],
      "metadata": {
        "id": "ZPnq7Z0npIES"
      },
      "execution_count": null,
      "outputs": []
    },
    {
      "cell_type": "code",
      "source": [
        "#2(b)\n",
        "x, y = np.ogrid[:10, :5]\n",
        "z = x + y\n",
        "\n",
        "'''\n",
        "Ans ->\n",
        "\n",
        "x = (10,1)\n",
        "y = (1,5)\n",
        "z = (10,5)\n",
        "'''"
      ],
      "metadata": {
        "id": "GaV0oKFKpZ5L"
      },
      "execution_count": null,
      "outputs": []
    },
    {
      "cell_type": "code",
      "source": [
        "#3\n",
        "\n",
        "#Referred - https://discuss.dizzycoding.com/what-is-the-purpose-of-meshgrid-in-python-numpy/\n",
        "\n",
        "'''\n",
        "Ans ->\n",
        "OGrid offer sparse storage. Hence, it might offer memory advantage in case of large grids\n",
        "'''"
      ],
      "metadata": {
        "id": "qXkt4t8grYDD"
      },
      "execution_count": null,
      "outputs": []
    },
    {
      "cell_type": "code",
      "source": [
        "#4\n",
        "def distCalc(cityIdx : int, distVector : list):\n",
        "  return [item - distVector[cityIdx] for item in distVector]\n",
        "\n",
        "'''\n",
        "Assuming that the cities are placed linearly\n",
        "'''\n",
        "nCities = 10\n",
        "cityLabels = ['City 1', 'City 2', 'City 3', 'City 4', 'City 5', 'City 6', 'City 7', 'City 8', 'City 9', 'City 10']\n",
        "Distances = np.array([0, 198, 303, 736, 871, 1175, 1475, 1544, 1913, 2448])\n",
        "dMatrix = distCalc(0,Distances)\n",
        "for h in range(1,nCities):\n",
        "  dMatrix = np.vstack((dMatrix,distCalc(h,Distances)))\n",
        "\n",
        "plt.figure(figsize=(7, 6))\n",
        "plt.pcolormesh(dMatrix)\n",
        "plt.colorbar()\n",
        "plt.title('Distance Matrix')\n",
        "plt.xticks(range(10), cityLabels, rotation ='vertical')\n",
        "plt.yticks(range(10), cityLabels, rotation ='horizontal')\n",
        "plt.show()"
      ],
      "metadata": {
        "colab": {
          "base_uri": "https://localhost:8080/",
          "height": 415
        },
        "id": "Qxqe7JhOtLRP",
        "outputId": "2b98d9cc-7095-4dd5-8467-5aa1b6cb2a91"
      },
      "execution_count": null,
      "outputs": [
        {
          "output_type": "display_data",
          "data": {
            "text/plain": [
              "<Figure size 504x432 with 2 Axes>"
            ],
            "image/png": "[encoded data removed]"
          },
          "metadata": {
            "needs_background": "light"
          }
        }
      ]
    },
    {
      "cell_type": "code",
      "source": [
        "#5\n",
        "\n",
        "T = [[1, 2, 3], [ 4, 5, 6], [7, 8, 9]]\n",
        "Q = list(T)\n",
        "T[1][0] = 100000\n",
        "print('Showing that Q is simply pointing to T')\n",
        "print(Q)\n",
        "\n",
        "'''\n",
        "In the first case Q is merely pointing to T. Hence any change in T is effectively a change in Q. \n",
        "'''\n",
        "\n",
        "\n",
        "import copy\n",
        "\n",
        "T = [[1, 2, 3], [ 4, 5, 6], [7, 8, 9]]\n",
        "Q = copy.deepcopy(T)\n",
        "T[1][0] = 100000\n",
        "print('Showing that Q is now decoupled from T')\n",
        "print(Q)"
      ],
      "metadata": {
        "colab": {
          "base_uri": "https://localhost:8080/"
        },
        "id": "DQqOYRWutQfM",
        "outputId": "86db2073-7bb7-4a57-ce37-f35d44e8081e"
      },
      "execution_count": null,
      "outputs": [
        {
          "output_type": "stream",
          "name": "stdout",
          "text": [
            "Showing that Q now decoupled from T\n",
            "[[1, 2, 3], [4, 5, 6], [7, 8, 9]]\n"
          ]
        }
      ]
    },
    {
      "cell_type": "code",
      "source": [
        "#6\n",
        "\n",
        "X = np.array([5, 9, 77, 0, 74, 55, 81, 79, 90])\n",
        "Y = np.array([5, 1, 46, 2, 10, 29, 55, 4, 90])\n",
        "\n",
        "#(a)\n",
        "print('Values in X > Y \\n')\n",
        "print(X[X > Y])\n",
        "print('\\n Indexes where X > Y \\n')\n",
        "isGreater = [X[item] > Y[item] for item in range(9)]\n",
        "print([i for i,j in enumerate(isGreater) if j])\n",
        "\n",
        "\n",
        "#(b)\n",
        "print('\\n Indexes where X == Y \\n')\n",
        "isEqual = (X==Y)\n",
        "print([i for i,j in enumerate(isEqual) if j])\n"
      ],
      "metadata": {
        "colab": {
          "base_uri": "https://localhost:8080/"
        },
        "id": "ZFPbVEP5tReH",
        "outputId": "5e554ae4-30ad-4d6e-dcf0-59279ac6f0a4"
      },
      "execution_count": null,
      "outputs": [
        {
          "output_type": "stream",
          "name": "stdout",
          "text": [
            "Values in X > Y \n",
            "\n",
            "[ 9 77 74 55 81 79]\n",
            "\n",
            " Indexes where X > Y \n",
            "\n",
            "[1, 2, 4, 5, 6, 7]\n",
            "\n",
            " Indexes where X == Y \n",
            "\n",
            "[0, 8]\n"
          ]
        }
      ]
    },
    {
      "cell_type": "code",
      "source": [
        "###########\n",
        "# Part - 2\n",
        "###########\n",
        "\n",
        "import torch\n",
        "import torchvision\n",
        "import torchvision.datasets as datasets\n",
        "mnist = datasets.MNIST(root=\"./\", download=True)"
      ],
      "metadata": {
        "id": "S7jbvb1jtSTP",
        "colab": {
          "base_uri": "https://localhost:8080/",
          "height": 439,
          "referenced_widgets": [
            "675cd542c4364f08b5068bad9ec4869b",
            "ae7765d25f124c9ba91b827065642b38",
            "81b5c76b486e4c64b48cc763200b0348",
            "9020bef4ca0b4ada90c8cd8f79e95156",
            "4ffa9a6c7fa44610a138ef8f70cad672",
            "379ab014d19247cb9fa35e250c4f4ddb",
            "4b06769b708946c3aee3a2872e7c56b8",
            "f5b073ea60764fb4ad8606b1474be32c",
            "72e45ee80b9c4883bbecf190dbc21249",
            "3486b4c8cf514d1fb2dff98be8f1cd42",
            "089b8b4d4c4e40e9895f0ed402a3d374",
            "908fc184f7e94addaf6e922a6ec6beed",
            "09a2a5230f084f91a1b4f79e42f70125",
            "90efce51588e4b6b8cad2438807bc60c",
            "56864787984640a6b2c3cab44da0dad7",
            "4c872cb474724a269b440663a7bfdeae",
            "764706bd436848a8bd870dd101bd2461",
            "f32e373d086e4359b928c80249f09965",
            "699f22462823466489d95f57ebfe428d",
            "853ddeb6d2d6443290ea99e6c4cc5da3",
            "059263121fca4ded97b30d51d4c7f354",
            "ea7d1521ddd24511bfd7a527c52ef4bf",
            "b4ed3eba726d4881901cfbf77610cb24",
            "176f9154f20c4f708dbd4aee171cb210",
            "4fec24d4cfb24da780e97a4881b966f8",
            "8dfbb42ee813406eb75590e1d14476e0",
            "08f631b758364165a604f573490b46e9",
            "0f41f6c07bed4ef58e94f091bc189207",
            "5dc498ca8259476c8e6996b11aabb65a",
            "8bb806d78b91450996f190bda877d80a",
            "1ba49d9edb8f492f8474e5ce2df98f17",
            "2c65da01a0044047b07e4f8cb316ffff",
            "7f5a85af75404eac99867d879a44b2a7",
            "b8d8086fd3e7418fa971ca4950c3464e",
            "0a7871b6d09242a394de0d9fd159043a",
            "62d4a2f1063646268c3b3747622890ef",
            "7dc1b3c819c94563acf609ef0645976f",
            "edd7abfb97074940baa85f0a638db41c",
            "ae8bb3eb6a514fa78e79aec4bd45bd69",
            "d549b258ec9442cd8c4fb3aa3e2ec529",
            "928c29c9afca4b6e9e717ea160c811c9",
            "46c073829e9e43578e92fb43d084be18",
            "9dcc9834286442f19243baaab6750424",
            "43e40ec55bec4750afa51c46acca06b4"
          ]
        },
        "outputId": "6bb0b599-be0a-469d-fbf9-911fab5251a1"
      },
      "execution_count": null,
      "outputs": [
        {
          "output_type": "stream",
          "name": "stdout",
          "text": [
            "Downloading http://yann.lecun.com/exdb/mnist/train-images-idx3-ubyte.gz\n",
            "Downloading http://yann.lecun.com/exdb/mnist/train-images-idx3-ubyte.gz to ./MNIST/raw/train-images-idx3-ubyte.gz\n"
          ]
        },
        {
          "output_type": "display_data",
          "data": {
            "text/plain": [
              "  0%|          | 0/9912422 [00:00<?, ?it/s]"
            ],
            "application/vnd.jupyter.widget-view+json": {
              "version_major": 2,
              "version_minor": 0,
              "model_id": "675cd542c4364f08b5068bad9ec4869b"
            }
          },
          "metadata": {}
        },
        {
          "output_type": "stream",
          "name": "stdout",
          "text": [
            "Extracting ./MNIST/raw/train-images-idx3-ubyte.gz to ./MNIST/raw\n",
            "\n",
            "Downloading http://yann.lecun.com/exdb/mnist/train-labels-idx1-ubyte.gz\n",
            "Downloading http://yann.lecun.com/exdb/mnist/train-labels-idx1-ubyte.gz to ./MNIST/raw/train-labels-idx1-ubyte.gz\n"
          ]
        },
        {
          "output_type": "display_data",
          "data": {
            "text/plain": [
              "  0%|          | 0/28881 [00:00<?, ?it/s]"
            ],
            "application/vnd.jupyter.widget-view+json": {
              "version_major": 2,
              "version_minor": 0,
              "model_id": "908fc184f7e94addaf6e922a6ec6beed"
            }
          },
          "metadata": {}
        },
        {
          "output_type": "stream",
          "name": "stdout",
          "text": [
            "Extracting ./MNIST/raw/train-labels-idx1-ubyte.gz to ./MNIST/raw\n",
            "\n",
            "Downloading http://yann.lecun.com/exdb/mnist/t10k-images-idx3-ubyte.gz\n",
            "Downloading http://yann.lecun.com/exdb/mnist/t10k-images-idx3-ubyte.gz to ./MNIST/raw/t10k-images-idx3-ubyte.gz\n"
          ]
        },
        {
          "output_type": "display_data",
          "data": {
            "text/plain": [
              "  0%|          | 0/1648877 [00:00<?, ?it/s]"
            ],
            "application/vnd.jupyter.widget-view+json": {
              "version_major": 2,
              "version_minor": 0,
              "model_id": "b4ed3eba726d4881901cfbf77610cb24"
            }
          },
          "metadata": {}
        },
        {
          "output_type": "stream",
          "name": "stdout",
          "text": [
            "Extracting ./MNIST/raw/t10k-images-idx3-ubyte.gz to ./MNIST/raw\n",
            "\n",
            "Downloading http://yann.lecun.com/exdb/mnist/t10k-labels-idx1-ubyte.gz\n",
            "Downloading http://yann.lecun.com/exdb/mnist/t10k-labels-idx1-ubyte.gz to ./MNIST/raw/t10k-labels-idx1-ubyte.gz\n"
          ]
        },
        {
          "output_type": "display_data",
          "data": {
            "text/plain": [
              "  0%|          | 0/4542 [00:00<?, ?it/s]"
            ],
            "application/vnd.jupyter.widget-view+json": {
              "version_major": 2,
              "version_minor": 0,
              "model_id": "b8d8086fd3e7418fa971ca4950c3464e"
            }
          },
          "metadata": {}
        },
        {
          "output_type": "stream",
          "name": "stdout",
          "text": [
            "Extracting ./MNIST/raw/t10k-labels-idx1-ubyte.gz to ./MNIST/raw\n",
            "\n"
          ]
        }
      ]
    },
    {
      "cell_type": "code",
      "source": [
        "#1(a)\n",
        "\n",
        "for _i in range(5):\n",
        "  img, label = mnist[_i]\n",
        "  plt.subplot(1,5,_i+1)\n",
        "  plt.imshow(img,cmap=plt.get_cmap('gray'))\n",
        "\n",
        "plt.subplots_adjust(left=0.1, bottom=0.1, right=0.9, top=0.9, wspace=0.4, hspace=0.4)\n",
        "plt.show()"
      ],
      "metadata": {
        "id": "caAxrd3V8BKd",
        "colab": {
          "base_uri": "https://localhost:8080/",
          "height": 105
        },
        "outputId": "6d22e95f-70a5-40a0-e555-3efd2c7741e8"
      },
      "execution_count": null,
      "outputs": [
        {
          "output_type": "display_data",
          "data": {
            "text/plain": [
              "<Figure size 432x288 with 5 Axes>"
            ],
            "image/png": "[encoded data removed]"
          },
          "metadata": {}
        }
      ]
    },
    {
      "cell_type": "code",
      "source": [
        "#1(b)\n",
        "\n",
        "img3,lab3 = mnist[2]\n",
        "plt.figure(figsize=(1,1))\n",
        "plt.imshow(np.flip(np.transpose(img3),0),cmap=plt.get_cmap('gray'))\n",
        "plt.show()"
      ],
      "metadata": {
        "id": "dTc5qjqW8BNC",
        "colab": {
          "base_uri": "https://localhost:8080/",
          "height": 111
        },
        "outputId": "41d4d890-3b05-4ca5-8eb4-78a586d2f47a"
      },
      "execution_count": null,
      "outputs": [
        {
          "output_type": "display_data",
          "data": {
            "text/plain": [
              "<Figure size 72x72 with 1 Axes>"
            ],
            "image/png": "[encoded data removed]"
          },
          "metadata": {}
        }
      ]
    },
    {
      "cell_type": "code",
      "source": [
        "#1(c)\n",
        "batchSize = 10\n",
        "mnist_batch = [] \n",
        "#Load Images\n",
        "for _j in range(batchSize):\n",
        "  _i,_l = mnist[_j]\n",
        "  mnist_batch.append(np.asarray(_i))\n",
        "flatBatch = np.asarray(mnist_batch).flatten() #length is correct 10*784"
      ],
      "metadata": {
        "id": "7mBZ9J8c8BPq"
      },
      "execution_count": null,
      "outputs": []
    },
    {
      "cell_type": "code",
      "source": [
        "#1(d)\n",
        "\n",
        "for _i in range(batchSize):\n",
        "  img = flatBatch[_i*784 : (_i+1)*784].reshape(28,28)\n",
        "  plt.subplot(batchSize,1,_i+1)\n",
        "  plt.imshow(img,cmap=plt.get_cmap('gray'))\n",
        "\n",
        "plt.show()\n"
      ],
      "metadata": {
        "id": "cGmFzuYI8BSA",
        "colab": {
          "base_uri": "https://localhost:8080/",
          "height": 287
        },
        "outputId": "04015fde-53a2-4694-df1f-71691656cc3c"
      },
      "execution_count": null,
      "outputs": [
        {
          "output_type": "display_data",
          "data": {
            "text/plain": [
              "<Figure size 432x288 with 10 Axes>"
            ],
            "image/png": "[encoded data removed]"
          },
          "metadata": {}
        }
      ]
    },
    {
      "cell_type": "code",
      "source": [
        "#1(e)\n",
        "\n",
        "for _i in range(batchSize):\n",
        "  img = flatBatch[_i*784 : (_i+1)*784].reshape(28,28)\n",
        "  plt.subplot(1,batchSize,_i+1)\n",
        "  plt.imshow(img,cmap=plt.get_cmap('gray'))\n",
        "\n",
        "plt.subplots_adjust(left=0.1, bottom=0.1, right=0.9, top=0.9, wspace=0.4, hspace=0.4)\n",
        "plt.show()"
      ],
      "metadata": {
        "id": "WocntySB8BUq",
        "colab": {
          "base_uri": "https://localhost:8080/",
          "height": 79
        },
        "outputId": "3bf3910f-898e-4856-b9a9-0af7876bee6b"
      },
      "execution_count": null,
      "outputs": [
        {
          "output_type": "display_data",
          "data": {
            "text/plain": [
              "<Figure size 432x288 with 10 Axes>"
            ],
            "image/png": "[encoded data removed]"
          },
          "metadata": {}
        }
      ]
    },
    {
      "cell_type": "code",
      "source": [
        "#1(f)\n",
        "import math\n",
        "flatBatch1 = flatBatch[:math.floor(batchSize/2)*784] #First Half Batch\n",
        "flatBatch2 = flatBatch[math.floor(batchSize/2)*784:] #Second Half Batch\n",
        "\n",
        "batchSize1 = int(len(flatBatch1)/784)\n",
        "batchSize2 = int(len(flatBatch2)/784)\n",
        "\n",
        "\n",
        "for _i in range(batchSize1):\n",
        "  img = flatBatch1[_i*784 : (_i+1)*784].reshape(28,28)\n",
        "  plt.subplot(1,batchSize1,_i+1)\n",
        "  plt.imshow(img,cmap=plt.get_cmap('gray'))\n",
        "plt.show()\n",
        "\n",
        "\n",
        "for _j in range(batchSize2):\n",
        "  img = flatBatch[_j*784 : (_j+1)*784].reshape(28,28)\n",
        "  plt.subplot(1,batchSize2,_j+1)\n",
        "  plt.imshow(img,cmap=plt.get_cmap('gray'))\n",
        "\n",
        "plt.subplots_adjust(left=0.1, bottom=0.1, right=0.9, top=0.9, wspace=0.4, hspace=0.4)\n",
        "plt.show()"
      ],
      "metadata": {
        "id": "EPp8V8MR8BW8",
        "colab": {
          "base_uri": "https://localhost:8080/",
          "height": 206
        },
        "outputId": "7b9a7775-279d-4a05-eb2a-926ff1dedf14"
      },
      "execution_count": null,
      "outputs": [
        {
          "output_type": "display_data",
          "data": {
            "text/plain": [
              "<Figure size 432x288 with 5 Axes>"
            ],
            "image/png": "[encoded data removed]"
          },
          "metadata": {}
        },
        {
          "output_type": "display_data",
          "data": {
            "text/plain": [
              "<Figure size 432x288 with 5 Axes>"
            ],
            "image/png": "[encoded data removed]"
          },
          "metadata": {}
        }
      ]
    },
    {
      "cell_type": "code",
      "source": [],
      "metadata": {
        "id": "iNF0gWWH8ffd"
      },
      "execution_count": null,
      "outputs": []
    },
    {
      "cell_type": "code",
      "source": [],
      "metadata": {
        "id": "tdm-j_9S1G8f"
      },
      "execution_count": null,
      "outputs": []
    },
    {
      "cell_type": "code",
      "source": [],
      "metadata": {
        "id": "g1Pa2pNr1G_N"
      },
      "execution_count": null,
      "outputs": []
    },
    {
      "cell_type": "code",
      "source": [
        "#2(a)\n",
        "'''\n",
        "We simply divide each value in the numpy array by 255\n",
        "'''\n",
        "\n",
        "normalizedMNISTBatch = [item/255.0 for item in mnist_batch]"
      ],
      "metadata": {
        "id": "0ofBOpjY8BZl"
      },
      "execution_count": null,
      "outputs": []
    },
    {
      "cell_type": "code",
      "source": [
        "#2(b)\n",
        "\n",
        "meanNormalizedMNISTBatch = [np.mean(item) for item in normalizedMNISTBatch]"
      ],
      "metadata": {
        "id": "UfZBfE7Y8BcK"
      },
      "execution_count": null,
      "outputs": []
    },
    {
      "cell_type": "code",
      "source": [
        "#2(c)\n",
        "plt.hist(meanNormalizedMNISTBatch)\n",
        "plt.title(\"Distribution of Mean of Normalized Pixel Values (Batch)\")\n",
        "plt.show()"
      ],
      "metadata": {
        "id": "3dp0Q9x_8Bev",
        "colab": {
          "base_uri": "https://localhost:8080/",
          "height": 303
        },
        "outputId": "5668073e-057a-48d2-80b5-bb143890f953"
      },
      "execution_count": null,
      "outputs": [
        {
          "output_type": "display_data",
          "data": {
            "text/plain": [
              "<Figure size 432x288 with 1 Axes>"
            ],
            "image/png": "[encoded data removed]"
          },
          "metadata": {}
        }
      ]
    },
    {
      "cell_type": "code",
      "source": [
        "#2(d)\n",
        "from mpl_toolkits import mplot3d\n",
        "\n",
        "#Define a function to extract Pixel Value from Coordinate\n",
        "def getValue(x,y,imgArray):\n",
        "  return imgArray[x,y]\n",
        "\n",
        "#Choose an Image\n",
        "img1, lab1 = mnist[1]\n",
        "\n",
        "#Prep Data\n",
        "xdata = list(range(28))\n",
        "ydata = list(range(28))\n",
        "X, Y = np.meshgrid(xdata, ydata)\n",
        "eqArray = np.asarray(img1)\n",
        "zdata = getValue(X,Y,eqArray)\n",
        "\n",
        "fig = plt.figure()\n",
        "ax = plt.axes(projection='3d')\n",
        "ax.contour3D(xdata, ydata, zdata, 50, cmap='Greens');\n",
        "fig.show()"
      ],
      "metadata": {
        "id": "vsOCJLce8D2j",
        "colab": {
          "base_uri": "https://localhost:8080/",
          "height": 321
        },
        "outputId": "f59037c8-2cce-4424-eecf-3a5c32129b3e"
      },
      "execution_count": null,
      "outputs": [
        {
          "output_type": "stream",
          "name": "stderr",
          "text": [
            "/usr/local/lib/python3.7/dist-packages/mpl_toolkits/mplot3d/art3d.py:304: VisibleDeprecationWarning: Creating an ndarray from ragged nested sequences (which is a list-or-tuple of lists-or-tuples-or ndarrays with different lengths or shapes) is deprecated. If you meant to do this, you must specify 'dtype=object' when creating the ndarray.\n",
            "  self._segments3d = np.asanyarray(segments)\n"
          ]
        },
        {
          "output_type": "display_data",
          "data": {
            "text/plain": [
              "<Figure size 432x288 with 1 Axes>"
            ],
            "image/png": "[encoded data removed]"
          },
          "metadata": {}
        }
      ]
    },
    {
      "cell_type": "code",
      "source": [
        "#2(e)\n",
        "\n",
        "#Create the Datasets X,y\n",
        "XSet = []\n",
        "ySet = []\n",
        "for _u in range(len(mnist)):\n",
        "  img,label = mnist[_u]\n",
        "  XSet.append(img)\n",
        "  ySet.append(label)\n",
        "\n",
        "#Sort by Label\n",
        "idx = np.argsort(ySet)\n",
        "#Pick in the order of Index\n",
        "XSetSorted = map(XSet.__getitem__, idx)\n",
        "ySetSorted = map(ySet.__getitem__, idx)"
      ],
      "metadata": {
        "id": "ML_46LAt8Dzz"
      },
      "execution_count": null,
      "outputs": []
    },
    {
      "cell_type": "code",
      "source": [
        "#2(f)\n",
        "\n",
        "#Choose an image, flatten and normalize\n",
        "\n",
        "img_random, _ = mnist[30270]\n",
        "img_random_array = np.asarray(img_random).flatten()/255.0\n",
        "\n",
        "#Plot Histogram\n",
        "plt.hist(img_random_array)\n",
        "plt.show()"
      ],
      "metadata": {
        "colab": {
          "base_uri": "https://localhost:8080/",
          "height": 282
        },
        "id": "vzOOojiKcN2B",
        "outputId": "55493369-510a-4d3d-dc7f-9ad36a117913"
      },
      "execution_count": null,
      "outputs": [
        {
          "output_type": "display_data",
          "data": {
            "text/plain": [
              "<Figure size 432x288 with 1 Axes>"
            ],
            "image/png": "[encoded data removed]"
          },
          "metadata": {}
        }
      ]
    },
    {
      "cell_type": "code",
      "source": [
        "#2(g)\n",
        "\n",
        "#Flatten an image to create a 1D np array\n",
        "def preProcess(Idx):\n",
        "  img_random, _ = mnist[Idx]\n",
        "  return np.asarray(img_random).flatten()/255.0\n",
        "\n",
        "#Average all 60,000 arrays element by element => One array of Dimension [28*28]\n",
        "flatNormCollection = [preProcess(item) for item in range(60000)]\n",
        "grandAverageArray = np.mean(np.asarray(flatNormCollection), axis = 0)\n",
        "\n",
        "#Plot Histogram on this aggregated array\n",
        "plt.hist(grandAverageArray)\n",
        "plt.title(\"Distribution of Mean Normalized Pixel Reading at each (x,y)\")\n",
        "plt.show()"
      ],
      "metadata": {
        "id": "j_ItT1RD8D48",
        "colab": {
          "base_uri": "https://localhost:8080/",
          "height": 303
        },
        "outputId": "6b6c50f5-d6f7-41b5-bda4-fa42743ede64"
      },
      "execution_count": null,
      "outputs": [
        {
          "output_type": "display_data",
          "data": {
            "text/plain": [
              "<Figure size 432x288 with 1 Axes>"
            ],
            "image/png": "[encoded data removed]"
          },
          "metadata": {}
        }
      ]
    },
    {
      "cell_type": "code",
      "source": [
        "#2(h)\n",
        "meanNormalizedMNIST = [item/np.mean(item) for item in mnist_batch]"
      ],
      "metadata": {
        "id": "W1xSaOp38D7h"
      },
      "execution_count": null,
      "outputs": []
    },
    {
      "cell_type": "code",
      "source": [],
      "metadata": {
        "id": "YMPSIb3z2b57"
      },
      "execution_count": null,
      "outputs": []
    },
    {
      "cell_type": "code",
      "source": [
        "###########\n",
        "# Part - 3\n",
        "###########"
      ],
      "metadata": {
        "id": "Gn6THlql8EFK"
      },
      "execution_count": null,
      "outputs": []
    },
    {
      "cell_type": "code",
      "source": [
        "#1\n",
        "\n",
        "'''\n",
        "Lists -> Storing streaming data as its generated.\n",
        "Sets -> Storing data while throwing away duplicates.\n",
        "Tuples -> Storing data in the same way as lists but we want to ensure immutability.\n",
        "Dictionaries -> Storing data along with its metadata in a one-one corresspondance. \n",
        "'''"
      ],
      "metadata": {
        "id": "F6Wsths38hth"
      },
      "execution_count": null,
      "outputs": []
    },
    {
      "cell_type": "code",
      "source": [
        "#2\n",
        "\n",
        "'''\n",
        "Illustation of SOLID principles.\n",
        "'''\n",
        "\n",
        "#Single Responsibility \n",
        "\n",
        "'''\n",
        "To Solve the Heat Equation, we encapsulate the equation and Mesh separately.\n",
        "'''\n",
        "\n",
        "import numpy as np\n",
        "\n",
        "class OneDHeatEq:\n",
        "  def __init__(self,xBC,xBCValue):\n",
        "    self.x0 = xBC\n",
        "    self.x0Value = xBCValue\n",
        "  \n",
        "  def sineForcingFunction(self,x):\n",
        "    return -(np.pi**2)*(np.sin(np.pi*x))\n",
        "\n",
        "class Mesh:\n",
        "  def __init__(self, geometry):\n",
        "    self.geom = geometry\n",
        "  def drawGrids(self,resolution):\n",
        "    pass\n",
        "  def linearShapeFunc(self):\n",
        "    pass\n",
        "\n",
        "\n",
        "#Open Closed Principle \n",
        "\n",
        "'''\n",
        "We specialize Mesh class by adding Quadratic Shape Functions\n",
        "'''\n",
        "\n",
        "class ExtraFnMesh(Mesh):\n",
        "  def quadraticShapeFunc(self):\n",
        "    pass\n",
        "\n",
        "\n",
        "\n",
        "\n",
        "#Liskov Substitution\n",
        "\n",
        "'''\n",
        "We want to modify the drawGrids method in a child class to make the gridding adaptive.\n",
        "'''\n",
        "\n",
        "class AdpativeMesh(Mesh):\n",
        "  def drawGrids(self, resolution):\n",
        "    pass\n",
        "\n",
        "\n",
        "\n",
        "#Interface Segregation\n",
        "\n",
        "'''\n",
        "We separate out the Shape Function in Mesh class by putiing it in a separate class\n",
        "'''\n",
        "\n",
        "class Mesh:\n",
        "  def __init__(self, geometry):\n",
        "    self.geom = geometry\n",
        "  def drawGrids(self,resolution):\n",
        "    pass\n",
        "\n",
        "class ShapeFn:\n",
        "  def linearShapeFunc(self):\n",
        "    pass\n",
        "\n",
        "\n",
        "#Depedency Inversion\n",
        "\n",
        "'''\n",
        "Instead of defining geometries ourselves, we adapt our Mesh class to import any geometry defined externally.\n",
        "'''\n",
        "\n",
        "class Geometry:\n",
        "  pass\n",
        "\n",
        "class Mesh(Geometry):\n",
        "  def drawGrids(self, resolution, geom : Geometry):\n",
        "    pass\n",
        "\n"
      ],
      "metadata": {
        "id": "p4d2N7bu8hwN"
      },
      "execution_count": null,
      "outputs": []
    },
    {
      "cell_type": "code",
      "source": [
        "#3\n",
        "\n",
        "def ingestParams(runNumb: int):\n",
        "  if(sys.argv[0]):\n",
        "    geoms = sys.argv[0]\n",
        "  \n",
        "  if(sys.argv[1]):\n",
        "    numPoints = sys.argv[1]\n",
        "\n",
        "  #Create a dictionary\n",
        "  paramsDict = {'geoms' : geoms, 'numPoints' : numPoints}\n",
        "\n",
        "  #Create a new folder\n",
        "  folderName = 'ParamFolder_' + str(runCount)\n",
        "  os.makedirs(folderName)\n",
        "\n",
        "  #Dump the dictionary within this folder as a YAML\n",
        "\n",
        "  pklFileName = \"./\"+folderName+\"/params.yaml\"\n",
        "  with open(pklFileName, 'w') as file:\n",
        "    documents = yaml.dump(paramsDict, file)\n",
        "\n",
        "  return runNumb + 1\n",
        "\n",
        "\n",
        "import os\n",
        "import yaml\n",
        "\n",
        "with open('config.yml', 'r') as file:\n",
        "    params = yaml.safe_load(file)\n",
        "\n",
        "#Reading default values from YAML\n",
        "geoms = params['geometry']\n",
        "numPoints = params['numPoints']\n",
        "\n",
        "#Override defaults from Command line - Since can't call command line in Colab. Simulating this using argv\n",
        "sys.argv[0] = ['circle','polygon']\n",
        "sys.argv[1] = [5,50]\n",
        "\n",
        "#Tracking Runs\n",
        "runCount = 1\n",
        "\n",
        "runCount = ingestParams(runCount)\n",
        "\n"
      ],
      "metadata": {
        "id": "W-n_Bl4o8hyx"
      },
      "execution_count": null,
      "outputs": []
    },
    {
      "cell_type": "code",
      "source": [
        "#4\n",
        "\n",
        "import sys\n",
        "import gc\n",
        "\n",
        "class A:\n",
        "  def __init__(self) -> None:\n",
        "    pass\n",
        "\n",
        "\n",
        "#Instantiate 2 objects of class A\n",
        "\n",
        "a1 = A()\n",
        "a2 = A()\n",
        "\n",
        "print(sys.getrefcount(id(a1))) #Printing out ref count for a1\n",
        "print(sys.getrefcount(id(a2))) #Printing out ref count for a2\n",
        "print(gc.get_count())\n",
        "\n",
        "del a2\n",
        "gc.collect()\n",
        "print(gc.get_count())"
      ],
      "metadata": {
        "id": "LcjtYd7u8iKO",
        "colab": {
          "base_uri": "https://localhost:8080/"
        },
        "outputId": "4f37ea01-d839-4720-af27-fc7d4a51384a"
      },
      "execution_count": null,
      "outputs": [
        {
          "output_type": "stream",
          "name": "stdout",
          "text": [
            "1\n",
            "1\n",
            "(356, 0, 0)\n",
            "(55, 0, 0)\n"
          ]
        }
      ]
    },
    {
      "cell_type": "code",
      "source": [
        "#5\n",
        "\n",
        "from PIL import Image\n",
        "img = Image.open('SamsClub-CarBatter-Feb2022.png')\n",
        "rgb_im = img.convert('RGB')\n",
        "resizedImg = rgb_im.resize((224, 224), Image.ANTIALIAS)\n",
        "resizedImg.save('resized_image.jpg')"
      ],
      "metadata": {
        "id": "Fa88lLd68iM0"
      },
      "execution_count": null,
      "outputs": []
    },
    {
      "cell_type": "code",
      "source": [
        "#6\n",
        "\n",
        "import h5py\n",
        "import pickle\n",
        "import os\n",
        "from PIL import Image\n",
        "import scipy.io\n",
        "\n",
        "import torch\n",
        "import torchvision\n",
        "import torchvision.datasets as datasets\n",
        "\n",
        "#Download MNIST\n",
        "mnist = datasets.MNIST(root=\"./\", download=True)\n",
        "\n",
        "#Create a local Directory to save 100 images\n",
        "os.mkdir('ToSave')\n",
        "\n",
        "#Create a Numpy array of arrays\n",
        "imagesArray = []\n",
        "for j in range(100):\n",
        "  img, label = mnist[j]\n",
        "  imagesArray.append(np.asarray(img))\n",
        "\n",
        "numpy2dImgArray = np.asarray(imagesArray)\n",
        "\n",
        "\n",
        "#Pickle\n",
        "with open('./ToSave/PickledImages2',\"wb\") as f:\n",
        "    pickle.dump(numpy2dImgArray,f)\n",
        "\n",
        "print('Pickled Size = ', os.path.getsize(\"./ToSave/PickledImages2\"))\n",
        "\n",
        "\n",
        "#H5\n",
        "h5f = h5py.File('./ToSave/data.h5', 'w')\n",
        "h5f.create_dataset('data' , data=numpy2dImgArray)\n",
        "h5f.close()\n",
        "\n",
        "print('H5 Size = ', os.path.getsize(\"./ToSave/data.h5\"))\n",
        "\n",
        "#Numpy\n",
        "np.save(\"./ToSave/images.npy\",numpy2dImgArray)\n",
        "print('NPY Size = ', os.path.getsize(\"./ToSave/images.npy\"))\n",
        "\n",
        "\n",
        "#NPZ\n",
        "np.savez(\"./ToSave/images2.npz\",numpy2dImgArray)\n",
        "print('NPZ Size = ', os.path.getsize(\"./ToSave/images2.npz\"))\n",
        "\n",
        "\n",
        "#MAT\n",
        "scipy.io.savemat('./ToSave/images3.mat', {'data': numpy2dImgArray})\n",
        "print('MAT Size = ', os.path.getsize(\"./ToSave/images3.mat\"))\n"
      ],
      "metadata": {
        "id": "uyM-SHDp8jPv",
        "colab": {
          "base_uri": "https://localhost:8080/"
        },
        "outputId": "7a47d178-b03e-4133-86c2-bdc60b40acbe"
      },
      "execution_count": null,
      "outputs": [
        {
          "output_type": "stream",
          "name": "stdout",
          "text": [
            "Pickled Size =  78560\n",
            "H5 Size =  80448\n",
            "NPY Size =  78528\n",
            "NPZ Size =  78664\n",
            "MAT Size =  78592\n"
          ]
        }
      ]
    },
    {
      "cell_type": "code",
      "source": [
        "#7\n",
        "\n",
        "class AllPlots:\n",
        "\n",
        "  def __init__(self, title = None, color = None, xlab = None, ylab = None, \n",
        "               zlab = None, xSeries = None, ySeries = None, \n",
        "               zSeries = None, cmap = None, subPlots = None, subPlotRows = None, \n",
        "               subPlotCols = None, figLength = None, figWidth = None) -> None:\n",
        "\n",
        "    self.title = title\n",
        "    self.color = color\n",
        "    self.xlab = xlab\n",
        "    self.ylab = ylab\n",
        "    self.zlab = zlab\n",
        "    self.xSeries = xSeries\n",
        "    self.ySeries = ySeries\n",
        "    self.zSeries = zSeries\n",
        "    self.cmap = cmap\n",
        "    self.subPlots = subPlots\n",
        "    self.subPlotRows = subPlotRows\n",
        "    self.subPlotCols = subPlotCols\n",
        "    self.figLength = figLength\n",
        "    self.figWidth = figWidth\n",
        "\n",
        "  def plotHist(self):\n",
        "    if self.title:\n",
        "      if self.xSeries:\n",
        "        if self.xlab:\n",
        "          if self.color:\n",
        "            plt.plot(self.xSeries, color= self.color)\n",
        "            plt.title(self.title)\n",
        "            plt.xlabel(self.xlab)\n",
        "            plt.show()\n",
        "          else:\n",
        "            plt.plot(self.xSeries, color= \"blue\")\n",
        "            plt.title(self.title)\n",
        "            plt.xlabel(self.xlab)\n",
        "            plt.show()\n",
        "\n",
        "        else:\n",
        "          return \" Sorry Please provide a Label for X Axis \"\n",
        "      else:\n",
        "        return \" Sorry Please Provide xSeries Data to Plot Histogram \"\n",
        "    else:\n",
        "      return \" Sorry Please Provide a Title to Plot Histogram \"\n",
        "\n",
        "\n",
        "  def plotScatter(self):\n",
        "    if self.title:\n",
        "      if self.xSeries:\n",
        "        if self.xlab:\n",
        "          if self.color:\n",
        "            plt.scatter(self.xSeries, self.ySeries, color= self.color)\n",
        "            plt.title(self.title)\n",
        "            plt.xlabel(self.xlab)\n",
        "            plt.ylabel(self.ylab)\n",
        "            plt.show()\n",
        "          else:\n",
        "            plt.scatter(self.xSeries, self.ySeries, color= \"blue\")\n",
        "            plt.title(self.title)\n",
        "            plt.xlabel(self.xlab)\n",
        "            plt.ylabel(self.ylab)\n",
        "            plt.show()\n",
        "\n",
        "        else:\n",
        "          return \" Sorry Please provide a Label for X Axis and Y Axis \"\n",
        "      else:\n",
        "        return \" Sorry Please Provide xSeries and ySeries Data to Plot \"\n",
        "    else:\n",
        "      return \" Sorry Please Provide a Title to Plot \"\n",
        "\n",
        "\n",
        "  def plotLoss(self):\n",
        "\n",
        "    '''\n",
        "    Here in ySeries the function Expects a list of two lists\n",
        "    '''\n",
        "\n",
        "    if len(self.ySeries != 2):\n",
        "      return \"Sorry, you need to provide data only for training and testing sets.\"\n",
        "    else:\n",
        "      if self.title:\n",
        "        if self.xSeries:\n",
        "          if self.xlab:\n",
        "              plt.plot(self.xSeries, self.ySeries[0], color= 'blue', label = \"Train Loss\")\n",
        "              plt.plot(self.xSeries, self.ySeries[1], color= 'orange', label = \"Train Loss\")\n",
        "              plt.legend(loc=\"upper left\")\n",
        "              plt.title(self.title)\n",
        "              plt.xlabel(self.xlab)\n",
        "              plt.ylabel(self.ylab)\n",
        "              plt.show()\n",
        "          else:\n",
        "            return \" Sorry Please provide a Label for X Axis and Y Axis \"\n",
        "        else:\n",
        "          return \" Sorry Please Provide xSeries Data to Plot \"\n",
        "      else:\n",
        "        return \" Sorry Please Provide a Title to Loss Plot \"\n",
        "\n",
        "\n",
        "  def multiImagePlot(self, ImgArray):\n",
        "    '''\n",
        "    ImgArray = Array of Images to be Plotted\n",
        "    '''\n",
        "\n",
        "    # create figure\n",
        "    fig = plt.figure(figsize=(self.figLength, self.figWidth))\n",
        "  \n",
        "    # setting values to rows and column variables\n",
        "    rows = self.subPlotRows\n",
        "    cols = self.subPlotCols\n",
        "\n",
        "    for _k in range(rows*cols):\n",
        "      fig.add_subplot(rows, cols, _k)\n",
        "      plt.imshow(ImgArray[_k])\n",
        "      plt.axis('off')\n",
        "      plt.title(self.title[_k])\n",
        "\n",
        "    plt.show()\n",
        "\n",
        "\n",
        "\n",
        "\n"
      ],
      "metadata": {
        "id": "rU0EnkKf8jSW"
      },
      "execution_count": null,
      "outputs": []
    },
    {
      "cell_type": "code",
      "source": [],
      "metadata": {
        "id": "PTu_meKf8jUr"
      },
      "execution_count": null,
      "outputs": []
    }
  ]
}